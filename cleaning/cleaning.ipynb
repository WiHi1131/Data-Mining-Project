{
 "cells": [
  {
   "cell_type": "code",
   "execution_count": 152,
   "id": "3a785fc1-a4e2-4966-8dbb-0517d993fd67",
   "metadata": {},
   "outputs": [],
   "source": [
    "import pandas as pd\n",
    "import seaborn as sns\n",
    "import matplotlib.pyplot as plt\n",
    "\n",
    "# Independent datasets\n",
    "profiles = pd.read_csv('../datasets/profiles.csv')\n",
    "financials = pd.read_csv('../datasets/financials.csv')\n",
    "overviews = pd.read_csv('../datasets/overviews.csv')"
   ]
  },
  {
   "cell_type": "markdown",
   "id": "063a9b87-2bf5-4b71-abbb-f4a52d0a775f",
   "metadata": {},
   "source": [
    "# Loading datasets"
   ]
  },
  {
   "cell_type": "code",
   "execution_count": 153,
   "id": "d266e5c3-cd41-46c3-92c8-5409d7725337",
   "metadata": {},
   "outputs": [
    {
     "data": {
      "text/html": [
       "<div>\n",
       "<style scoped>\n",
       "    .dataframe tbody tr th:only-of-type {\n",
       "        vertical-align: middle;\n",
       "    }\n",
       "\n",
       "    .dataframe tbody tr th {\n",
       "        vertical-align: top;\n",
       "    }\n",
       "\n",
       "    .dataframe thead th {\n",
       "        text-align: right;\n",
       "    }\n",
       "</style>\n",
       "<table border=\"1\" class=\"dataframe\">\n",
       "  <thead>\n",
       "    <tr style=\"text-align: right;\">\n",
       "      <th></th>\n",
       "      <th>name</th>\n",
       "      <th>tagline</th>\n",
       "      <th>website</th>\n",
       "      <th>summary</th>\n",
       "      <th>concepts</th>\n",
       "      <th>keywords</th>\n",
       "      <th>sentiment</th>\n",
       "      <th>articles</th>\n",
       "    </tr>\n",
       "  </thead>\n",
       "  <tbody>\n",
       "    <tr>\n",
       "      <th>0</th>\n",
       "      <td>Valera Health</td>\n",
       "      <td>Your Path to Wellness, Just a Click Away</td>\n",
       "      <td>https://valerahealth.com</td>\n",
       "      <td>Valera Health, based in New York, is a mental ...</td>\n",
       "      <td>['Comprehensive mental healthcare services for...</td>\n",
       "      <td>['Mental Health Care', 'Telemedicine', 'Health...</td>\n",
       "      <td>{'sentimentScore': 100, 'cntPositive': 15, 'cn...</td>\n",
       "      <td>[{'contentId': 'ab325015a7bbae7beefc4833b73696...</td>\n",
       "    </tr>\n",
       "    <tr>\n",
       "      <th>1</th>\n",
       "      <td>Bestow</td>\n",
       "      <td>Protecting Life, Simplified</td>\n",
       "      <td>https://bestow.com</td>\n",
       "      <td>Bestow is a Texas-based company that offers fa...</td>\n",
       "      <td>['Offers fast and affordable term life insuran...</td>\n",
       "      <td>['Insurance', 'Technology', 'Healthcare', 'Fin...</td>\n",
       "      <td>{'sentimentScore': 90, 'cntPositive': 48, 'cnt...</td>\n",
       "      <td>[{'contentId': 'b633176d-6378-46d0-9b15-d2b611...</td>\n",
       "    </tr>\n",
       "  </tbody>\n",
       "</table>\n",
       "</div>"
      ],
      "text/plain": [
       "            name                                   tagline  \\\n",
       "0  Valera Health  Your Path to Wellness, Just a Click Away   \n",
       "1         Bestow               Protecting Life, Simplified   \n",
       "\n",
       "                    website  \\\n",
       "0  https://valerahealth.com   \n",
       "1        https://bestow.com   \n",
       "\n",
       "                                             summary  \\\n",
       "0  Valera Health, based in New York, is a mental ...   \n",
       "1  Bestow is a Texas-based company that offers fa...   \n",
       "\n",
       "                                            concepts  \\\n",
       "0  ['Comprehensive mental healthcare services for...   \n",
       "1  ['Offers fast and affordable term life insuran...   \n",
       "\n",
       "                                            keywords  \\\n",
       "0  ['Mental Health Care', 'Telemedicine', 'Health...   \n",
       "1  ['Insurance', 'Technology', 'Healthcare', 'Fin...   \n",
       "\n",
       "                                           sentiment  \\\n",
       "0  {'sentimentScore': 100, 'cntPositive': 15, 'cn...   \n",
       "1  {'sentimentScore': 90, 'cntPositive': 48, 'cnt...   \n",
       "\n",
       "                                            articles  \n",
       "0  [{'contentId': 'ab325015a7bbae7beefc4833b73696...  \n",
       "1  [{'contentId': 'b633176d-6378-46d0-9b15-d2b611...  "
      ]
     },
     "execution_count": 153,
     "metadata": {},
     "output_type": "execute_result"
    }
   ],
   "source": [
    "profiles.head(2)"
   ]
  },
  {
   "cell_type": "code",
   "execution_count": 154,
   "id": "f1a40cc5-c367-4064-9620-bbfe41864fc5",
   "metadata": {},
   "outputs": [
    {
     "data": {
      "text/html": [
       "<div>\n",
       "<style scoped>\n",
       "    .dataframe tbody tr th:only-of-type {\n",
       "        vertical-align: middle;\n",
       "    }\n",
       "\n",
       "    .dataframe tbody tr th {\n",
       "        vertical-align: top;\n",
       "    }\n",
       "\n",
       "    .dataframe thead th {\n",
       "        text-align: right;\n",
       "    }\n",
       "</style>\n",
       "<table border=\"1\" class=\"dataframe\">\n",
       "  <thead>\n",
       "    <tr style=\"text-align: right;\">\n",
       "      <th></th>\n",
       "      <th>name</th>\n",
       "      <th>website</th>\n",
       "      <th>investor_count</th>\n",
       "      <th>funding_count</th>\n",
       "      <th>funding_total</th>\n",
       "      <th>funding_last_type</th>\n",
       "      <th>funding_last</th>\n",
       "      <th>funding_last_date</th>\n",
       "      <th>valuation</th>\n",
       "      <th>valuation_date</th>\n",
       "      <th>revenue_year</th>\n",
       "      <th>revenue_total</th>\n",
       "    </tr>\n",
       "  </thead>\n",
       "  <tbody>\n",
       "    <tr>\n",
       "      <th>0</th>\n",
       "      <td>Valera Health</td>\n",
       "      <td>https://valerahealth.com</td>\n",
       "      <td>20.0</td>\n",
       "      <td>8.0</td>\n",
       "      <td>76.32M</td>\n",
       "      <td>Series B - II</td>\n",
       "      <td>9.12M</td>\n",
       "      <td>April 9, 2024</td>\n",
       "      <td>NaN</td>\n",
       "      <td>NaN</td>\n",
       "      <td>NaN</td>\n",
       "      <td>NaN</td>\n",
       "    </tr>\n",
       "    <tr>\n",
       "      <th>1</th>\n",
       "      <td>Bestow</td>\n",
       "      <td>https://bestow.com</td>\n",
       "      <td>8.0</td>\n",
       "      <td>5.0</td>\n",
       "      <td>138.1M</td>\n",
       "      <td>Series C</td>\n",
       "      <td>70M</td>\n",
       "      <td>December 16, 2020</td>\n",
       "      <td>NaN</td>\n",
       "      <td>NaN</td>\n",
       "      <td>NaN</td>\n",
       "      <td>NaN</td>\n",
       "    </tr>\n",
       "  </tbody>\n",
       "</table>\n",
       "</div>"
      ],
      "text/plain": [
       "            name                   website  investor_count  funding_count  \\\n",
       "0  Valera Health  https://valerahealth.com            20.0            8.0   \n",
       "1         Bestow        https://bestow.com             8.0            5.0   \n",
       "\n",
       "  funding_total funding_last_type funding_last  funding_last_date valuation  \\\n",
       "0        76.32M     Series B - II        9.12M      April 9, 2024       NaN   \n",
       "1        138.1M          Series C          70M  December 16, 2020       NaN   \n",
       "\n",
       "  valuation_date  revenue_year revenue_total  \n",
       "0            NaN           NaN           NaN  \n",
       "1            NaN           NaN           NaN  "
      ]
     },
     "execution_count": 154,
     "metadata": {},
     "output_type": "execute_result"
    }
   ],
   "source": [
    "financials.head(2)"
   ]
  },
  {
   "cell_type": "code",
   "execution_count": 155,
   "id": "c42d194f-59e1-42eb-a206-c450ab844fea",
   "metadata": {},
   "outputs": [
    {
     "data": {
      "text/html": [
       "<div>\n",
       "<style scoped>\n",
       "    .dataframe tbody tr th:only-of-type {\n",
       "        vertical-align: middle;\n",
       "    }\n",
       "\n",
       "    .dataframe tbody tr th {\n",
       "        vertical-align: top;\n",
       "    }\n",
       "\n",
       "    .dataframe thead th {\n",
       "        text-align: right;\n",
       "    }\n",
       "</style>\n",
       "<table border=\"1\" class=\"dataframe\">\n",
       "  <thead>\n",
       "    <tr style=\"text-align: right;\">\n",
       "      <th></th>\n",
       "      <th>name</th>\n",
       "      <th>website</th>\n",
       "      <th>cb_description</th>\n",
       "      <th>year_founded</th>\n",
       "      <th>mosaic_change</th>\n",
       "      <th>city</th>\n",
       "      <th>region</th>\n",
       "      <th>country</th>\n",
       "      <th>postal</th>\n",
       "    </tr>\n",
       "  </thead>\n",
       "  <tbody>\n",
       "    <tr>\n",
       "      <th>0</th>\n",
       "      <td>Valera Health</td>\n",
       "      <td>https://valerahealth.com</td>\n",
       "      <td>Valera Health operates as a tele-mental health...</td>\n",
       "      <td>2015</td>\n",
       "      <td>-117.0</td>\n",
       "      <td>Brooklyn</td>\n",
       "      <td>New York</td>\n",
       "      <td>United States</td>\n",
       "      <td>11249</td>\n",
       "    </tr>\n",
       "    <tr>\n",
       "      <th>1</th>\n",
       "      <td>Bestow</td>\n",
       "      <td>https://bestow.com</td>\n",
       "      <td>Bestow operates as an insurance technology com...</td>\n",
       "      <td>2017</td>\n",
       "      <td>-119.0</td>\n",
       "      <td>Dallas</td>\n",
       "      <td>Texas</td>\n",
       "      <td>United States</td>\n",
       "      <td>75226</td>\n",
       "    </tr>\n",
       "  </tbody>\n",
       "</table>\n",
       "</div>"
      ],
      "text/plain": [
       "            name                   website  \\\n",
       "0  Valera Health  https://valerahealth.com   \n",
       "1         Bestow        https://bestow.com   \n",
       "\n",
       "                                      cb_description year_founded  \\\n",
       "0  Valera Health operates as a tele-mental health...         2015   \n",
       "1  Bestow operates as an insurance technology com...         2017   \n",
       "\n",
       "   mosaic_change      city    region        country postal  \n",
       "0         -117.0  Brooklyn  New York  United States  11249  \n",
       "1         -119.0    Dallas     Texas  United States  75226  "
      ]
     },
     "execution_count": 155,
     "metadata": {},
     "output_type": "execute_result"
    }
   ],
   "source": [
    "overviews.head(2)"
   ]
  },
  {
   "cell_type": "markdown",
   "id": "de23bf69-52b5-405f-8432-c0471058aef6",
   "metadata": {},
   "source": [
    "# Cleaning the datasets"
   ]
  },
  {
   "cell_type": "markdown",
   "id": "1a8a4e35-537d-445c-a455-59e83c8aca4a",
   "metadata": {},
   "source": [
    "## Imputation"
   ]
  },
  {
   "cell_type": "markdown",
   "id": "afd197aa-6aab-47f3-849b-febe8f6cc993",
   "metadata": {},
   "source": [
    "#### Starting with `profiles.csv`"
   ]
  },
  {
   "cell_type": "code",
   "execution_count": 156,
   "id": "8bdb1a61-b111-4201-8acf-29114465df97",
   "metadata": {},
   "outputs": [
    {
     "data": {
      "text/plain": [
       "8363"
      ]
     },
     "execution_count": 156,
     "metadata": {},
     "output_type": "execute_result"
    }
   ],
   "source": [
    "len(profiles)"
   ]
  },
  {
   "cell_type": "code",
   "execution_count": 157,
   "id": "b1429160-c50c-449a-91f7-05a6a6098b06",
   "metadata": {},
   "outputs": [
    {
     "data": {
      "text/plain": [
       "name         0\n",
       "tagline      0\n",
       "website      0\n",
       "summary      0\n",
       "concepts     0\n",
       "keywords     0\n",
       "sentiment    0\n",
       "articles     0\n",
       "dtype: int64"
      ]
     },
     "execution_count": 157,
     "metadata": {},
     "output_type": "execute_result"
    }
   ],
   "source": [
    "profiles.isnull().sum()"
   ]
  },
  {
   "cell_type": "markdown",
   "id": "6597db7d-3c84-4002-b892-3b2b91f265c0",
   "metadata": {},
   "source": [
    "`profiles.csv` is good to go."
   ]
  },
  {
   "cell_type": "markdown",
   "id": "8e39dcd7-c049-4d3a-bb5b-92ffd7361ff1",
   "metadata": {},
   "source": [
    "#### Moving on to `financials.csv`"
   ]
  },
  {
   "cell_type": "code",
   "execution_count": 158,
   "id": "a0142fad-650d-46ba-9f19-cc41d34245bd",
   "metadata": {},
   "outputs": [
    {
     "data": {
      "text/plain": [
       "6874"
      ]
     },
     "execution_count": 158,
     "metadata": {},
     "output_type": "execute_result"
    }
   ],
   "source": [
    "len(financials)"
   ]
  },
  {
   "cell_type": "code",
   "execution_count": 159,
   "id": "9e3a0569-5a2a-4eb8-ac80-f596742d2b94",
   "metadata": {},
   "outputs": [
    {
     "data": {
      "text/plain": [
       "name                    0\n",
       "website                 0\n",
       "investor_count         63\n",
       "funding_count         453\n",
       "funding_total         453\n",
       "funding_last_type       0\n",
       "funding_last         1764\n",
       "funding_last_date      94\n",
       "valuation            6008\n",
       "valuation_date       6008\n",
       "revenue_year         6611\n",
       "revenue_total        6611\n",
       "dtype: int64"
      ]
     },
     "execution_count": 159,
     "metadata": {},
     "output_type": "execute_result"
    }
   ],
   "source": [
    "financials.isnull().sum()"
   ]
  },
  {
   "cell_type": "markdown",
   "id": "85f71d8c-ef96-4502-97f6-f1b21f985dd8",
   "metadata": {},
   "source": [
    "These are the columns with null values:\n",
    "1. `investor_count`         63\n",
    "2. `funding_count`         453\n",
    "3. `funding_total`         453\n",
    "4. `funding_last`         1764\n",
    "5. `funding_last_date`      94\n",
    "6. `valuation`            6008\n",
    "7. `valuation_date`       6008\n",
    "8. `revenue_year`         6611\n",
    "9. `revenue_total`        6611"
   ]
  },
  {
   "cell_type": "markdown",
   "id": "c3c61b85-af5e-407d-9bf0-20aaef62bc35",
   "metadata": {},
   "source": [
    "Numbers 1 through 4 can be imputed, since the number of missing values in each is less than 25% of the total number of rows of `financials.csv`, which is 6874 rows.\n",
    "\n",
    "We'll keep 5 as it is, it may be useful.\n",
    "\n",
    "Numbers 6 through 7 will be dropped from the complete dataset when we integrate the data, but will be copied into two seperate datasets, one with startups with complete valuation information, and another with startups with complete valuation information."
   ]
  },
  {
   "cell_type": "code",
   "execution_count": 160,
   "id": "ff4daeee-bf68-4667-ada3-e773b656a2ea",
   "metadata": {},
   "outputs": [],
   "source": [
    "def print_stats(mean, median, mode, skew):\n",
    "    print(f'Mean: {float(mean):.2f}')\n",
    "    print(f'Median: {float(median):.2f}')\n",
    "    print(f'Mode: {float(mode):.2f}')\n",
    "    print(f'Skew: {float(skew):.2f}')"
   ]
  },
  {
   "cell_type": "markdown",
   "id": "1d1b10c7-42a5-458b-b435-8eb6b76d6875",
   "metadata": {},
   "source": [
    "##### 1. `investor_count`"
   ]
  },
  {
   "cell_type": "code",
   "execution_count": 161,
   "id": "f733b4ca-69c1-4cc1-8858-b628fbd4dfae",
   "metadata": {},
   "outputs": [
    {
     "name": "stdout",
     "output_type": "stream",
     "text": [
      "Mean: 10.12\n",
      "Median: 9.00\n",
      "Mode: 1.00\n",
      "Skew: 1.65\n"
     ]
    },
    {
     "data": {
      "image/png": "[encoded data removed]",
      "text/plain": [
       "<Figure size 640x480 with 1 Axes>"
      ]
     },
     "metadata": {},
     "output_type": "display_data"
    }
   ],
   "source": [
    "investor_count_mean = financials['investor_count'].mean(skipna=True)\n",
    "investor_count_median = financials['investor_count'].median(skipna=True)\n",
    "investor_count_mode = financials['investor_count'].mode()\n",
    "investor_count_skew = financials['investor_count'].skew(skipna=True)\n",
    "\n",
    "print_stats(investor_count_mean, investor_count_median, investor_count_mode, investor_count_skew)\n",
    "\n",
    "sns.histplot(financials['investor_count'], kde=True)\n",
    "plt.show()"
   ]
  },
  {
   "cell_type": "markdown",
   "id": "1e1baea3-f7da-40b2-8cd8-76cd546c7982",
   "metadata": {},
   "source": [
    "Large positive skew with many values at 1, so we will use median as an imputation value."
   ]
  },
  {
   "cell_type": "code",
   "execution_count": 162,
   "id": "54623613-6a5c-47c0-971e-77ab6a4c2e61",
   "metadata": {},
   "outputs": [
    {
     "data": {
      "text/plain": [
       "0"
      ]
     },
     "execution_count": 162,
     "metadata": {},
     "output_type": "execute_result"
    }
   ],
   "source": [
    "financials['investor_count'].fillna(investor_count_median, inplace=True)\n",
    "financials['investor_count'].isnull().sum()"
   ]
  },
  {
   "cell_type": "markdown",
   "id": "a59ee36c-a767-4a6b-a773-3a2897319075",
   "metadata": {},
   "source": [
    "##### 2. `funding_count`"
   ]
  },
  {
   "cell_type": "code",
   "execution_count": 163,
   "id": "518c139e-5b85-494a-9d48-e5f7930bc652",
   "metadata": {},
   "outputs": [
    {
     "name": "stdout",
     "output_type": "stream",
     "text": [
      "Mean: 5.31\n",
      "Median: 5.00\n",
      "Mode: 3.00\n",
      "Skew: 1.54\n"
     ]
    },
    {
     "data": {
      "image/png": "[encoded data removed]",
      "text/plain": [
       "<Figure size 640x480 with 1 Axes>"
      ]
     },
     "metadata": {},
     "output_type": "display_data"
    }
   ],
   "source": [
    "funding_count_mean = financials['funding_count'].mean(skipna=True)\n",
    "funding_count_median = financials['funding_count'].median(skipna=True)\n",
    "funding_count_mode = financials['funding_count'].mode()\n",
    "funding_count_skew = financials['funding_count'].skew(skipna=True)\n",
    "\n",
    "print_stats(funding_count_mean, funding_count_median, funding_count_mode, funding_count_skew)\n",
    "\n",
    "sns.histplot(financials['funding_count'], kde=True, bins=40)\n",
    "plt.show()"
   ]
  },
  {
   "cell_type": "markdown",
   "id": "20d40898-cdd5-423b-88d6-731668589b06",
   "metadata": {},
   "source": [
    "Large positive skew with many values at 3, so we will use median as an imputation value."
   ]
  },
  {
   "cell_type": "code",
   "execution_count": 164,
   "id": "c7b1633a-b715-4d30-95ba-50e7cc53aba0",
   "metadata": {},
   "outputs": [
    {
     "data": {
      "text/plain": [
       "0"
      ]
     },
     "execution_count": 164,
     "metadata": {},
     "output_type": "execute_result"
    }
   ],
   "source": [
    "financials['funding_count'].fillna(funding_count_median, inplace=True)\n",
    "financials['funding_count'].isnull().sum()"
   ]
  },
  {
   "cell_type": "markdown",
   "id": "2d186c84-8232-4a55-a8a5-5da41ff8530a",
   "metadata": {},
   "source": [
    "##### 3. `funding_total`"
   ]
  },
  {
   "cell_type": "markdown",
   "id": "f736f1c0-2f96-48be-99f4-aa77af22bd30",
   "metadata": {},
   "source": [
    "Lets convert `funding_total` to have the unit millions of dollars."
   ]
  },
  {
   "cell_type": "code",
   "execution_count": 165,
   "id": "9cd8d54b-0173-4bd2-b230-7babe22c6bf7",
   "metadata": {},
   "outputs": [
    {
     "data": {
      "text/plain": [
       "0        76.32\n",
       "1       138.10\n",
       "2        99.00\n",
       "3        14.70\n",
       "4       390.50\n",
       "         ...  \n",
       "6869      0.05\n",
       "6870       NaN\n",
       "6871       NaN\n",
       "6872       NaN\n",
       "6873    390.50\n",
       "Name: funding_total_numeric_millions, Length: 6874, dtype: float64"
      ]
     },
     "execution_count": 165,
     "metadata": {},
     "output_type": "execute_result"
    }
   ],
   "source": [
    "financials['funding_total_numeric_millions'] = (\n",
    "    financials['funding_total'].astype(str)\n",
    "    .str.replace('M', '', regex=False)\n",
    "    .str.replace('B', '', regex=False)\n",
    "    .str.replace('K', '', regex=False)\n",
    "    .astype(float)\n",
    "    * financials['funding_total'].apply(\n",
    "    lambda x: 1 if 'M' in str(x) else 1000 if 'B' in str(x) else (1/1000) if 'K' in str(x) else 1)\n",
    ")\n",
    "financials['funding_total_numeric_millions']"
   ]
  },
  {
   "cell_type": "code",
   "execution_count": 166,
   "id": "464179e7-af21-4064-9f49-ee1ed3bcb48f",
   "metadata": {},
   "outputs": [
    {
     "name": "stdout",
     "output_type": "stream",
     "text": [
      "Mean: 106.18\n",
      "Median: 26.00\n",
      "Mode: 0.02\n",
      "Skew: 32.32\n"
     ]
    },
    {
     "data": {
      "image/png": "[encoded data removed]",
      "text/plain": [
       "<Figure size 640x480 with 1 Axes>"
      ]
     },
     "metadata": {},
     "output_type": "display_data"
    }
   ],
   "source": [
    "funding_total_mean = financials['funding_total_numeric_millions'].mean(skipna=True)\n",
    "funding_total_median = financials['funding_total_numeric_millions'].median(skipna=True)\n",
    "funding_total_mode = financials['funding_total_numeric_millions'].mode()\n",
    "funding_total_skew = financials['funding_total_numeric_millions'].skew(skipna=True)\n",
    "\n",
    "print_stats(funding_total_mean, funding_total_median, funding_total_mode, funding_total_skew)\n",
    "\n",
    "sns.boxplot(financials['funding_total_numeric_millions'])\n",
    "plt.show()"
   ]
  },
  {
   "cell_type": "markdown",
   "id": "6af12e72-1686-495a-9cf1-240bd561179c",
   "metadata": {},
   "source": [
    "We can see many large outliers, so we will use median as an imputation value."
   ]
  },
  {
   "cell_type": "code",
   "execution_count": 167,
   "id": "ed9b7334-a171-4ffc-ab32-e8eefeb148e7",
   "metadata": {},
   "outputs": [
    {
     "data": {
      "text/plain": [
       "0"
      ]
     },
     "execution_count": 167,
     "metadata": {},
     "output_type": "execute_result"
    }
   ],
   "source": [
    "financials['funding_total_numeric_millions'].fillna(funding_total_median, inplace=True)\n",
    "financials['funding_total_numeric_millions'].isnull().sum()"
   ]
  },
  {
   "cell_type": "markdown",
   "id": "ae1de925-dda3-489b-af6f-53a080d579c6",
   "metadata": {},
   "source": [
    "##### 4. `funding_last`"
   ]
  },
  {
   "cell_type": "markdown",
   "id": "51c5417e-456a-464f-956e-d2f390df9862",
   "metadata": {},
   "source": [
    "Lets convert `funding_last` to have the unit millions of dollars."
   ]
  },
  {
   "cell_type": "code",
   "execution_count": 168,
   "id": "6b74634a-60a0-4c33-9ad8-6b5cbbe289cc",
   "metadata": {},
   "outputs": [
    {
     "data": {
      "text/plain": [
       "0        9.12\n",
       "1       70.00\n",
       "2       75.00\n",
       "3       10.00\n",
       "4        7.77\n",
       "        ...  \n",
       "6869      NaN\n",
       "6870      NaN\n",
       "6871      NaN\n",
       "6872      NaN\n",
       "6873     7.77\n",
       "Name: funding_last_numeric_millions, Length: 6874, dtype: float64"
      ]
     },
     "execution_count": 168,
     "metadata": {},
     "output_type": "execute_result"
    }
   ],
   "source": [
    "financials['funding_last_numeric_millions'] = (\n",
    "    financials['funding_last'].astype(str)\n",
    "    .str.replace(',', '', regex=False)\n",
    "    .str.replace('M', '', regex=False)\n",
    "    .str.replace('B', '', regex=False)\n",
    "    .str.replace('K', '', regex=False)\n",
    "    .astype(float)\n",
    "    * financials['funding_last'].apply(\n",
    "    lambda x: 1 if 'M' in str(x) else 1000 if 'B' in str(x) else (1/1000) if 'K' in str(x) else 1)\n",
    ")\n",
    "financials['funding_last_numeric_millions']"
   ]
  },
  {
   "cell_type": "code",
   "execution_count": 169,
   "id": "8b6e0d90-f61d-461b-bd3c-84264c77b166",
   "metadata": {},
   "outputs": [
    {
     "name": "stdout",
     "output_type": "stream",
     "text": [
      "Mean: 40.71\n",
      "Median: 13.00\n",
      "Mode: 20.00\n",
      "Skew: 25.90\n"
     ]
    },
    {
     "data": {
      "image/png": "[encoded data removed]",
      "text/plain": [
       "<Figure size 640x480 with 1 Axes>"
      ]
     },
     "metadata": {},
     "output_type": "display_data"
    }
   ],
   "source": [
    "funding_last_mean = financials['funding_last_numeric_millions'].mean(skipna=True)\n",
    "funding_last_median = financials['funding_last_numeric_millions'].median(skipna=True)\n",
    "funding_last_mode = financials['funding_last_numeric_millions'].mode()\n",
    "funding_last_skew = financials['funding_last_numeric_millions'].skew(skipna=True)\n",
    "\n",
    "print_stats(funding_last_mean, funding_last_median, funding_last_mode, funding_last_skew)\n",
    "\n",
    "sns.boxplot(financials['funding_last_numeric_millions'])\n",
    "plt.show()"
   ]
  },
  {
   "cell_type": "markdown",
   "id": "b55897c5-8243-49d2-9991-b3160476efe5",
   "metadata": {},
   "source": [
    "We can see many large outliers, so we will use median as an imputation value."
   ]
  },
  {
   "cell_type": "code",
   "execution_count": 170,
   "id": "0a8c1e42-4561-4966-93e2-58a6c576887e",
   "metadata": {},
   "outputs": [
    {
     "data": {
      "text/plain": [
       "0"
      ]
     },
     "execution_count": 170,
     "metadata": {},
     "output_type": "execute_result"
    }
   ],
   "source": [
    "financials['funding_last_numeric_millions'].fillna(funding_last_median, inplace=True)\n",
    "financials['funding_last_numeric_millions'].isnull().sum()"
   ]
  },
  {
   "cell_type": "markdown",
   "id": "be770131-a73d-4451-9882-5ad1260b64d3",
   "metadata": {},
   "source": [
    "Lets drop the old `funding_total` and `funding_last` columns."
   ]
  },
  {
   "cell_type": "code",
   "execution_count": 171,
   "id": "8e859d52-0149-4a79-a320-f2ce1dec7254",
   "metadata": {},
   "outputs": [
    {
     "data": {
      "text/html": [
       "<div>\n",
       "<style scoped>\n",
       "    .dataframe tbody tr th:only-of-type {\n",
       "        vertical-align: middle;\n",
       "    }\n",
       "\n",
       "    .dataframe tbody tr th {\n",
       "        vertical-align: top;\n",
       "    }\n",
       "\n",
       "    .dataframe thead th {\n",
       "        text-align: right;\n",
       "    }\n",
       "</style>\n",
       "<table border=\"1\" class=\"dataframe\">\n",
       "  <thead>\n",
       "    <tr style=\"text-align: right;\">\n",
       "      <th></th>\n",
       "      <th>name</th>\n",
       "      <th>website</th>\n",
       "      <th>investor_count</th>\n",
       "      <th>funding_count</th>\n",
       "      <th>funding_last_type</th>\n",
       "      <th>funding_last_date</th>\n",
       "      <th>valuation</th>\n",
       "      <th>valuation_date</th>\n",
       "      <th>revenue_year</th>\n",
       "      <th>revenue_total</th>\n",
       "      <th>funding_total_numeric_millions</th>\n",
       "      <th>funding_last_numeric_millions</th>\n",
       "    </tr>\n",
       "  </thead>\n",
       "  <tbody>\n",
       "    <tr>\n",
       "      <th>0</th>\n",
       "      <td>Valera Health</td>\n",
       "      <td>https://valerahealth.com</td>\n",
       "      <td>20.0</td>\n",
       "      <td>8.0</td>\n",
       "      <td>Series B - II</td>\n",
       "      <td>April 9, 2024</td>\n",
       "      <td>NaN</td>\n",
       "      <td>NaN</td>\n",
       "      <td>NaN</td>\n",
       "      <td>NaN</td>\n",
       "      <td>76.32</td>\n",
       "      <td>9.12</td>\n",
       "    </tr>\n",
       "    <tr>\n",
       "      <th>1</th>\n",
       "      <td>Bestow</td>\n",
       "      <td>https://bestow.com</td>\n",
       "      <td>8.0</td>\n",
       "      <td>5.0</td>\n",
       "      <td>Series C</td>\n",
       "      <td>December 16, 2020</td>\n",
       "      <td>NaN</td>\n",
       "      <td>NaN</td>\n",
       "      <td>NaN</td>\n",
       "      <td>NaN</td>\n",
       "      <td>138.10</td>\n",
       "      <td>70.00</td>\n",
       "    </tr>\n",
       "    <tr>\n",
       "      <th>2</th>\n",
       "      <td>PlainID</td>\n",
       "      <td>https://plainid.com</td>\n",
       "      <td>10.0</td>\n",
       "      <td>5.0</td>\n",
       "      <td>Series C</td>\n",
       "      <td>December 21, 2021</td>\n",
       "      <td>$48M</td>\n",
       "      <td>December 2020</td>\n",
       "      <td>NaN</td>\n",
       "      <td>NaN</td>\n",
       "      <td>99.00</td>\n",
       "      <td>75.00</td>\n",
       "    </tr>\n",
       "    <tr>\n",
       "      <th>3</th>\n",
       "      <td>Snapcart</td>\n",
       "      <td>https://snapcart.global</td>\n",
       "      <td>9.0</td>\n",
       "      <td>4.0</td>\n",
       "      <td>Series A</td>\n",
       "      <td>October 25, 2017</td>\n",
       "      <td>NaN</td>\n",
       "      <td>NaN</td>\n",
       "      <td>NaN</td>\n",
       "      <td>NaN</td>\n",
       "      <td>14.70</td>\n",
       "      <td>10.00</td>\n",
       "    </tr>\n",
       "    <tr>\n",
       "      <th>4</th>\n",
       "      <td>Slice</td>\n",
       "      <td>https://sliceit.com</td>\n",
       "      <td>36.0</td>\n",
       "      <td>21.0</td>\n",
       "      <td>Debt - VIII</td>\n",
       "      <td>July 19, 2024</td>\n",
       "      <td>$1,800M</td>\n",
       "      <td>June 2022</td>\n",
       "      <td>NaN</td>\n",
       "      <td>NaN</td>\n",
       "      <td>390.50</td>\n",
       "      <td>7.77</td>\n",
       "    </tr>\n",
       "  </tbody>\n",
       "</table>\n",
       "</div>"
      ],
      "text/plain": [
       "            name                   website  investor_count  funding_count  \\\n",
       "0  Valera Health  https://valerahealth.com            20.0            8.0   \n",
       "1         Bestow        https://bestow.com             8.0            5.0   \n",
       "2        PlainID       https://plainid.com            10.0            5.0   \n",
       "3       Snapcart   https://snapcart.global             9.0            4.0   \n",
       "4          Slice       https://sliceit.com            36.0           21.0   \n",
       "\n",
       "  funding_last_type  funding_last_date valuation valuation_date  revenue_year  \\\n",
       "0     Series B - II      April 9, 2024       NaN            NaN           NaN   \n",
       "1          Series C  December 16, 2020       NaN            NaN           NaN   \n",
       "2          Series C  December 21, 2021      $48M  December 2020           NaN   \n",
       "3          Series A   October 25, 2017       NaN            NaN           NaN   \n",
       "4       Debt - VIII      July 19, 2024   $1,800M      June 2022           NaN   \n",
       "\n",
       "  revenue_total  funding_total_numeric_millions  funding_last_numeric_millions  \n",
       "0           NaN                           76.32                           9.12  \n",
       "1           NaN                          138.10                          70.00  \n",
       "2           NaN                           99.00                          75.00  \n",
       "3           NaN                           14.70                          10.00  \n",
       "4           NaN                          390.50                           7.77  "
      ]
     },
     "execution_count": 171,
     "metadata": {},
     "output_type": "execute_result"
    }
   ],
   "source": [
    "financials.drop(['funding_total', 'funding_last'], axis=1, inplace=True)\n",
    "financials.head()"
   ]
  },
  {
   "cell_type": "markdown",
   "id": "fac4d75d-f43c-435f-81f0-8fc44f856585",
   "metadata": {},
   "source": [
    "##### 6. `valuation`"
   ]
  },
  {
   "cell_type": "code",
   "execution_count": 172,
   "id": "7fd660de-27b1-41d3-a95f-34794fc2e62c",
   "metadata": {},
   "outputs": [
    {
     "data": {
      "text/html": [
       "<div>\n",
       "<style scoped>\n",
       "    .dataframe tbody tr th:only-of-type {\n",
       "        vertical-align: middle;\n",
       "    }\n",
       "\n",
       "    .dataframe tbody tr th {\n",
       "        vertical-align: top;\n",
       "    }\n",
       "\n",
       "    .dataframe thead th {\n",
       "        text-align: right;\n",
       "    }\n",
       "</style>\n",
       "<table border=\"1\" class=\"dataframe\">\n",
       "  <thead>\n",
       "    <tr style=\"text-align: right;\">\n",
       "      <th></th>\n",
       "      <th>name</th>\n",
       "      <th>website</th>\n",
       "      <th>investor_count</th>\n",
       "      <th>funding_count</th>\n",
       "      <th>funding_last_type</th>\n",
       "      <th>funding_last_date</th>\n",
       "      <th>valuation</th>\n",
       "      <th>valuation_date</th>\n",
       "      <th>revenue_year</th>\n",
       "      <th>revenue_total</th>\n",
       "      <th>funding_total_numeric_millions</th>\n",
       "      <th>funding_last_numeric_millions</th>\n",
       "      <th>valuation_numeric_millions</th>\n",
       "    </tr>\n",
       "  </thead>\n",
       "  <tbody>\n",
       "    <tr>\n",
       "      <th>0</th>\n",
       "      <td>Valera Health</td>\n",
       "      <td>https://valerahealth.com</td>\n",
       "      <td>20.0</td>\n",
       "      <td>8.0</td>\n",
       "      <td>Series B - II</td>\n",
       "      <td>April 9, 2024</td>\n",
       "      <td>NaN</td>\n",
       "      <td>NaN</td>\n",
       "      <td>NaN</td>\n",
       "      <td>NaN</td>\n",
       "      <td>76.32</td>\n",
       "      <td>9.12</td>\n",
       "      <td>NaN</td>\n",
       "    </tr>\n",
       "    <tr>\n",
       "      <th>1</th>\n",
       "      <td>Bestow</td>\n",
       "      <td>https://bestow.com</td>\n",
       "      <td>8.0</td>\n",
       "      <td>5.0</td>\n",
       "      <td>Series C</td>\n",
       "      <td>December 16, 2020</td>\n",
       "      <td>NaN</td>\n",
       "      <td>NaN</td>\n",
       "      <td>NaN</td>\n",
       "      <td>NaN</td>\n",
       "      <td>138.10</td>\n",
       "      <td>70.00</td>\n",
       "      <td>NaN</td>\n",
       "    </tr>\n",
       "    <tr>\n",
       "      <th>2</th>\n",
       "      <td>PlainID</td>\n",
       "      <td>https://plainid.com</td>\n",
       "      <td>10.0</td>\n",
       "      <td>5.0</td>\n",
       "      <td>Series C</td>\n",
       "      <td>December 21, 2021</td>\n",
       "      <td>$48M</td>\n",
       "      <td>December 2020</td>\n",
       "      <td>NaN</td>\n",
       "      <td>NaN</td>\n",
       "      <td>99.00</td>\n",
       "      <td>75.00</td>\n",
       "      <td>48.0</td>\n",
       "    </tr>\n",
       "    <tr>\n",
       "      <th>3</th>\n",
       "      <td>Snapcart</td>\n",
       "      <td>https://snapcart.global</td>\n",
       "      <td>9.0</td>\n",
       "      <td>4.0</td>\n",
       "      <td>Series A</td>\n",
       "      <td>October 25, 2017</td>\n",
       "      <td>NaN</td>\n",
       "      <td>NaN</td>\n",
       "      <td>NaN</td>\n",
       "      <td>NaN</td>\n",
       "      <td>14.70</td>\n",
       "      <td>10.00</td>\n",
       "      <td>NaN</td>\n",
       "    </tr>\n",
       "    <tr>\n",
       "      <th>4</th>\n",
       "      <td>Slice</td>\n",
       "      <td>https://sliceit.com</td>\n",
       "      <td>36.0</td>\n",
       "      <td>21.0</td>\n",
       "      <td>Debt - VIII</td>\n",
       "      <td>July 19, 2024</td>\n",
       "      <td>$1,800M</td>\n",
       "      <td>June 2022</td>\n",
       "      <td>NaN</td>\n",
       "      <td>NaN</td>\n",
       "      <td>390.50</td>\n",
       "      <td>7.77</td>\n",
       "      <td>1800.0</td>\n",
       "    </tr>\n",
       "  </tbody>\n",
       "</table>\n",
       "</div>"
      ],
      "text/plain": [
       "            name                   website  investor_count  funding_count  \\\n",
       "0  Valera Health  https://valerahealth.com            20.0            8.0   \n",
       "1         Bestow        https://bestow.com             8.0            5.0   \n",
       "2        PlainID       https://plainid.com            10.0            5.0   \n",
       "3       Snapcart   https://snapcart.global             9.0            4.0   \n",
       "4          Slice       https://sliceit.com            36.0           21.0   \n",
       "\n",
       "  funding_last_type  funding_last_date valuation valuation_date  revenue_year  \\\n",
       "0     Series B - II      April 9, 2024       NaN            NaN           NaN   \n",
       "1          Series C  December 16, 2020       NaN            NaN           NaN   \n",
       "2          Series C  December 21, 2021      $48M  December 2020           NaN   \n",
       "3          Series A   October 25, 2017       NaN            NaN           NaN   \n",
       "4       Debt - VIII      July 19, 2024   $1,800M      June 2022           NaN   \n",
       "\n",
       "  revenue_total  funding_total_numeric_millions  \\\n",
       "0           NaN                           76.32   \n",
       "1           NaN                          138.10   \n",
       "2           NaN                           99.00   \n",
       "3           NaN                           14.70   \n",
       "4           NaN                          390.50   \n",
       "\n",
       "   funding_last_numeric_millions  valuation_numeric_millions  \n",
       "0                           9.12                         NaN  \n",
       "1                          70.00                         NaN  \n",
       "2                          75.00                        48.0  \n",
       "3                          10.00                         NaN  \n",
       "4                           7.77                      1800.0  "
      ]
     },
     "execution_count": 172,
     "metadata": {},
     "output_type": "execute_result"
    }
   ],
   "source": [
    "financials['valuation_numeric_millions'] = (\n",
    "    financials['valuation'].astype(str)\n",
    "    .str.replace(',', '', regex=False)\n",
    "    .str.replace('M', '', regex=False)\n",
    "    .str.replace('B', '', regex=False)\n",
    "    .str.replace('K', '', regex=False)\n",
    "    .str.replace('$', '', regex=False)\n",
    "    .astype(float)\n",
    "    * financials['valuation'].apply(\n",
    "    lambda x: 1 if 'M' in str(x) else 1000 if 'B' in str(x) else (1/1000) if 'K' in str(x) else 1)\n",
    ")\n",
    "\n",
    "financials['valuation_numeric_millions'].isnull().sum()\n",
    "financials.head()"
   ]
  },
  {
   "cell_type": "code",
   "execution_count": 173,
   "id": "3ebd4431-826c-4978-92f7-e062c78cd5d4",
   "metadata": {},
   "outputs": [
    {
     "data": {
      "text/html": [
       "<div>\n",
       "<style scoped>\n",
       "    .dataframe tbody tr th:only-of-type {\n",
       "        vertical-align: middle;\n",
       "    }\n",
       "\n",
       "    .dataframe tbody tr th {\n",
       "        vertical-align: top;\n",
       "    }\n",
       "\n",
       "    .dataframe thead th {\n",
       "        text-align: right;\n",
       "    }\n",
       "</style>\n",
       "<table border=\"1\" class=\"dataframe\">\n",
       "  <thead>\n",
       "    <tr style=\"text-align: right;\">\n",
       "      <th></th>\n",
       "      <th>name</th>\n",
       "      <th>website</th>\n",
       "      <th>investor_count</th>\n",
       "      <th>funding_count</th>\n",
       "      <th>funding_last_type</th>\n",
       "      <th>funding_last_date</th>\n",
       "      <th>valuation_date</th>\n",
       "      <th>revenue_year</th>\n",
       "      <th>revenue_total</th>\n",
       "      <th>funding_total_numeric_millions</th>\n",
       "      <th>funding_last_numeric_millions</th>\n",
       "      <th>valuation_numeric_millions</th>\n",
       "    </tr>\n",
       "  </thead>\n",
       "  <tbody>\n",
       "    <tr>\n",
       "      <th>0</th>\n",
       "      <td>Valera Health</td>\n",
       "      <td>https://valerahealth.com</td>\n",
       "      <td>20.0</td>\n",
       "      <td>8.0</td>\n",
       "      <td>Series B - II</td>\n",
       "      <td>April 9, 2024</td>\n",
       "      <td>NaN</td>\n",
       "      <td>NaN</td>\n",
       "      <td>NaN</td>\n",
       "      <td>76.32</td>\n",
       "      <td>9.12</td>\n",
       "      <td>NaN</td>\n",
       "    </tr>\n",
       "    <tr>\n",
       "      <th>1</th>\n",
       "      <td>Bestow</td>\n",
       "      <td>https://bestow.com</td>\n",
       "      <td>8.0</td>\n",
       "      <td>5.0</td>\n",
       "      <td>Series C</td>\n",
       "      <td>December 16, 2020</td>\n",
       "      <td>NaN</td>\n",
       "      <td>NaN</td>\n",
       "      <td>NaN</td>\n",
       "      <td>138.10</td>\n",
       "      <td>70.00</td>\n",
       "      <td>NaN</td>\n",
       "    </tr>\n",
       "    <tr>\n",
       "      <th>2</th>\n",
       "      <td>PlainID</td>\n",
       "      <td>https://plainid.com</td>\n",
       "      <td>10.0</td>\n",
       "      <td>5.0</td>\n",
       "      <td>Series C</td>\n",
       "      <td>December 21, 2021</td>\n",
       "      <td>December 2020</td>\n",
       "      <td>NaN</td>\n",
       "      <td>NaN</td>\n",
       "      <td>99.00</td>\n",
       "      <td>75.00</td>\n",
       "      <td>48.0</td>\n",
       "    </tr>\n",
       "    <tr>\n",
       "      <th>3</th>\n",
       "      <td>Snapcart</td>\n",
       "      <td>https://snapcart.global</td>\n",
       "      <td>9.0</td>\n",
       "      <td>4.0</td>\n",
       "      <td>Series A</td>\n",
       "      <td>October 25, 2017</td>\n",
       "      <td>NaN</td>\n",
       "      <td>NaN</td>\n",
       "      <td>NaN</td>\n",
       "      <td>14.70</td>\n",
       "      <td>10.00</td>\n",
       "      <td>NaN</td>\n",
       "    </tr>\n",
       "    <tr>\n",
       "      <th>4</th>\n",
       "      <td>Slice</td>\n",
       "      <td>https://sliceit.com</td>\n",
       "      <td>36.0</td>\n",
       "      <td>21.0</td>\n",
       "      <td>Debt - VIII</td>\n",
       "      <td>July 19, 2024</td>\n",
       "      <td>June 2022</td>\n",
       "      <td>NaN</td>\n",
       "      <td>NaN</td>\n",
       "      <td>390.50</td>\n",
       "      <td>7.77</td>\n",
       "      <td>1800.0</td>\n",
       "    </tr>\n",
       "  </tbody>\n",
       "</table>\n",
       "</div>"
      ],
      "text/plain": [
       "            name                   website  investor_count  funding_count  \\\n",
       "0  Valera Health  https://valerahealth.com            20.0            8.0   \n",
       "1         Bestow        https://bestow.com             8.0            5.0   \n",
       "2        PlainID       https://plainid.com            10.0            5.0   \n",
       "3       Snapcart   https://snapcart.global             9.0            4.0   \n",
       "4          Slice       https://sliceit.com            36.0           21.0   \n",
       "\n",
       "  funding_last_type  funding_last_date valuation_date  revenue_year  \\\n",
       "0     Series B - II      April 9, 2024            NaN           NaN   \n",
       "1          Series C  December 16, 2020            NaN           NaN   \n",
       "2          Series C  December 21, 2021  December 2020           NaN   \n",
       "3          Series A   October 25, 2017            NaN           NaN   \n",
       "4       Debt - VIII      July 19, 2024      June 2022           NaN   \n",
       "\n",
       "  revenue_total  funding_total_numeric_millions  \\\n",
       "0           NaN                           76.32   \n",
       "1           NaN                          138.10   \n",
       "2           NaN                           99.00   \n",
       "3           NaN                           14.70   \n",
       "4           NaN                          390.50   \n",
       "\n",
       "   funding_last_numeric_millions  valuation_numeric_millions  \n",
       "0                           9.12                         NaN  \n",
       "1                          70.00                         NaN  \n",
       "2                          75.00                        48.0  \n",
       "3                          10.00                         NaN  \n",
       "4                           7.77                      1800.0  "
      ]
     },
     "execution_count": 173,
     "metadata": {},
     "output_type": "execute_result"
    }
   ],
   "source": [
    "financials.drop(['valuation'], axis=1, inplace=True)\n",
    "financials.head()"
   ]
  },
  {
   "cell_type": "markdown",
   "id": "4967eaff-de61-4938-9105-b22d3ac4d7a5",
   "metadata": {},
   "source": [
    "##### 9. `revenue_total`"
   ]
  },
  {
   "cell_type": "code",
   "execution_count": 174,
   "id": "581698b4-52e2-4aab-99e1-1aacf6ac6eeb",
   "metadata": {},
   "outputs": [
    {
     "data": {
      "text/html": [
       "<div>\n",
       "<style scoped>\n",
       "    .dataframe tbody tr th:only-of-type {\n",
       "        vertical-align: middle;\n",
       "    }\n",
       "\n",
       "    .dataframe tbody tr th {\n",
       "        vertical-align: top;\n",
       "    }\n",
       "\n",
       "    .dataframe thead th {\n",
       "        text-align: right;\n",
       "    }\n",
       "</style>\n",
       "<table border=\"1\" class=\"dataframe\">\n",
       "  <thead>\n",
       "    <tr style=\"text-align: right;\">\n",
       "      <th></th>\n",
       "      <th>name</th>\n",
       "      <th>website</th>\n",
       "      <th>investor_count</th>\n",
       "      <th>funding_count</th>\n",
       "      <th>funding_last_type</th>\n",
       "      <th>funding_last_date</th>\n",
       "      <th>valuation_date</th>\n",
       "      <th>revenue_year</th>\n",
       "      <th>revenue_total</th>\n",
       "      <th>funding_total_numeric_millions</th>\n",
       "      <th>funding_last_numeric_millions</th>\n",
       "      <th>valuation_numeric_millions</th>\n",
       "      <th>revenue_total_numeric_millions</th>\n",
       "    </tr>\n",
       "  </thead>\n",
       "  <tbody>\n",
       "    <tr>\n",
       "      <th>0</th>\n",
       "      <td>Valera Health</td>\n",
       "      <td>https://valerahealth.com</td>\n",
       "      <td>20.0</td>\n",
       "      <td>8.0</td>\n",
       "      <td>Series B - II</td>\n",
       "      <td>April 9, 2024</td>\n",
       "      <td>NaN</td>\n",
       "      <td>NaN</td>\n",
       "      <td>NaN</td>\n",
       "      <td>76.32</td>\n",
       "      <td>9.12</td>\n",
       "      <td>NaN</td>\n",
       "      <td>NaN</td>\n",
       "    </tr>\n",
       "    <tr>\n",
       "      <th>1</th>\n",
       "      <td>Bestow</td>\n",
       "      <td>https://bestow.com</td>\n",
       "      <td>8.0</td>\n",
       "      <td>5.0</td>\n",
       "      <td>Series C</td>\n",
       "      <td>December 16, 2020</td>\n",
       "      <td>NaN</td>\n",
       "      <td>NaN</td>\n",
       "      <td>NaN</td>\n",
       "      <td>138.10</td>\n",
       "      <td>70.00</td>\n",
       "      <td>NaN</td>\n",
       "      <td>NaN</td>\n",
       "    </tr>\n",
       "    <tr>\n",
       "      <th>2</th>\n",
       "      <td>PlainID</td>\n",
       "      <td>https://plainid.com</td>\n",
       "      <td>10.0</td>\n",
       "      <td>5.0</td>\n",
       "      <td>Series C</td>\n",
       "      <td>December 21, 2021</td>\n",
       "      <td>December 2020</td>\n",
       "      <td>NaN</td>\n",
       "      <td>NaN</td>\n",
       "      <td>99.00</td>\n",
       "      <td>75.00</td>\n",
       "      <td>48.0</td>\n",
       "      <td>NaN</td>\n",
       "    </tr>\n",
       "    <tr>\n",
       "      <th>3</th>\n",
       "      <td>Snapcart</td>\n",
       "      <td>https://snapcart.global</td>\n",
       "      <td>9.0</td>\n",
       "      <td>4.0</td>\n",
       "      <td>Series A</td>\n",
       "      <td>October 25, 2017</td>\n",
       "      <td>NaN</td>\n",
       "      <td>NaN</td>\n",
       "      <td>NaN</td>\n",
       "      <td>14.70</td>\n",
       "      <td>10.00</td>\n",
       "      <td>NaN</td>\n",
       "      <td>NaN</td>\n",
       "    </tr>\n",
       "    <tr>\n",
       "      <th>4</th>\n",
       "      <td>Slice</td>\n",
       "      <td>https://sliceit.com</td>\n",
       "      <td>36.0</td>\n",
       "      <td>21.0</td>\n",
       "      <td>Debt - VIII</td>\n",
       "      <td>July 19, 2024</td>\n",
       "      <td>June 2022</td>\n",
       "      <td>NaN</td>\n",
       "      <td>NaN</td>\n",
       "      <td>390.50</td>\n",
       "      <td>7.77</td>\n",
       "      <td>1800.0</td>\n",
       "      <td>NaN</td>\n",
       "    </tr>\n",
       "  </tbody>\n",
       "</table>\n",
       "</div>"
      ],
      "text/plain": [
       "            name                   website  investor_count  funding_count  \\\n",
       "0  Valera Health  https://valerahealth.com            20.0            8.0   \n",
       "1         Bestow        https://bestow.com             8.0            5.0   \n",
       "2        PlainID       https://plainid.com            10.0            5.0   \n",
       "3       Snapcart   https://snapcart.global             9.0            4.0   \n",
       "4          Slice       https://sliceit.com            36.0           21.0   \n",
       "\n",
       "  funding_last_type  funding_last_date valuation_date  revenue_year  \\\n",
       "0     Series B - II      April 9, 2024            NaN           NaN   \n",
       "1          Series C  December 16, 2020            NaN           NaN   \n",
       "2          Series C  December 21, 2021  December 2020           NaN   \n",
       "3          Series A   October 25, 2017            NaN           NaN   \n",
       "4       Debt - VIII      July 19, 2024      June 2022           NaN   \n",
       "\n",
       "  revenue_total  funding_total_numeric_millions  \\\n",
       "0           NaN                           76.32   \n",
       "1           NaN                          138.10   \n",
       "2           NaN                           99.00   \n",
       "3           NaN                           14.70   \n",
       "4           NaN                          390.50   \n",
       "\n",
       "   funding_last_numeric_millions  valuation_numeric_millions  \\\n",
       "0                           9.12                         NaN   \n",
       "1                          70.00                         NaN   \n",
       "2                          75.00                        48.0   \n",
       "3                          10.00                         NaN   \n",
       "4                           7.77                      1800.0   \n",
       "\n",
       "   revenue_total_numeric_millions  \n",
       "0                             NaN  \n",
       "1                             NaN  \n",
       "2                             NaN  \n",
       "3                             NaN  \n",
       "4                             NaN  "
      ]
     },
     "execution_count": 174,
     "metadata": {},
     "output_type": "execute_result"
    }
   ],
   "source": [
    "financials['revenue_total_numeric_millions'] = (\n",
    "    financials['revenue_total'].astype(str)\n",
    "    .str.replace(',', '', regex=False)\n",
    "    .str.replace('M', '', regex=False)\n",
    "    .str.replace('B', '', regex=False)\n",
    "    .str.replace('K', '', regex=False)\n",
    "    .str.replace('T', '', regex=False)\n",
    "    .astype(float)\n",
    "    * financials['revenue_total'].apply(\n",
    "    lambda x: 1 if 'M' in str(x) else 1000 if 'B' in str(x) else (1/1000) if 'K' in str(x) else 1000000 if 'T' in str(x) else 1)\n",
    ")\n",
    "\n",
    "financials['revenue_total_numeric_millions'].isnull().sum()\n",
    "financials.head()"
   ]
  },
  {
   "cell_type": "code",
   "execution_count": 175,
   "id": "99060f84-b893-424b-80e9-408c48704d83",
   "metadata": {},
   "outputs": [
    {
     "data": {
      "text/html": [
       "<div>\n",
       "<style scoped>\n",
       "    .dataframe tbody tr th:only-of-type {\n",
       "        vertical-align: middle;\n",
       "    }\n",
       "\n",
       "    .dataframe tbody tr th {\n",
       "        vertical-align: top;\n",
       "    }\n",
       "\n",
       "    .dataframe thead th {\n",
       "        text-align: right;\n",
       "    }\n",
       "</style>\n",
       "<table border=\"1\" class=\"dataframe\">\n",
       "  <thead>\n",
       "    <tr style=\"text-align: right;\">\n",
       "      <th></th>\n",
       "      <th>name</th>\n",
       "      <th>website</th>\n",
       "      <th>investor_count</th>\n",
       "      <th>funding_count</th>\n",
       "      <th>funding_last_type</th>\n",
       "      <th>funding_last_date</th>\n",
       "      <th>valuation_date</th>\n",
       "      <th>revenue_year</th>\n",
       "      <th>funding_total_numeric_millions</th>\n",
       "      <th>funding_last_numeric_millions</th>\n",
       "      <th>valuation_numeric_millions</th>\n",
       "      <th>revenue_total_numeric_millions</th>\n",
       "    </tr>\n",
       "  </thead>\n",
       "  <tbody>\n",
       "    <tr>\n",
       "      <th>0</th>\n",
       "      <td>Valera Health</td>\n",
       "      <td>https://valerahealth.com</td>\n",
       "      <td>20.0</td>\n",
       "      <td>8.0</td>\n",
       "      <td>Series B - II</td>\n",
       "      <td>April 9, 2024</td>\n",
       "      <td>NaN</td>\n",
       "      <td>NaN</td>\n",
       "      <td>76.32</td>\n",
       "      <td>9.12</td>\n",
       "      <td>NaN</td>\n",
       "      <td>NaN</td>\n",
       "    </tr>\n",
       "    <tr>\n",
       "      <th>1</th>\n",
       "      <td>Bestow</td>\n",
       "      <td>https://bestow.com</td>\n",
       "      <td>8.0</td>\n",
       "      <td>5.0</td>\n",
       "      <td>Series C</td>\n",
       "      <td>December 16, 2020</td>\n",
       "      <td>NaN</td>\n",
       "      <td>NaN</td>\n",
       "      <td>138.10</td>\n",
       "      <td>70.00</td>\n",
       "      <td>NaN</td>\n",
       "      <td>NaN</td>\n",
       "    </tr>\n",
       "    <tr>\n",
       "      <th>2</th>\n",
       "      <td>PlainID</td>\n",
       "      <td>https://plainid.com</td>\n",
       "      <td>10.0</td>\n",
       "      <td>5.0</td>\n",
       "      <td>Series C</td>\n",
       "      <td>December 21, 2021</td>\n",
       "      <td>December 2020</td>\n",
       "      <td>NaN</td>\n",
       "      <td>99.00</td>\n",
       "      <td>75.00</td>\n",
       "      <td>48.0</td>\n",
       "      <td>NaN</td>\n",
       "    </tr>\n",
       "    <tr>\n",
       "      <th>3</th>\n",
       "      <td>Snapcart</td>\n",
       "      <td>https://snapcart.global</td>\n",
       "      <td>9.0</td>\n",
       "      <td>4.0</td>\n",
       "      <td>Series A</td>\n",
       "      <td>October 25, 2017</td>\n",
       "      <td>NaN</td>\n",
       "      <td>NaN</td>\n",
       "      <td>14.70</td>\n",
       "      <td>10.00</td>\n",
       "      <td>NaN</td>\n",
       "      <td>NaN</td>\n",
       "    </tr>\n",
       "    <tr>\n",
       "      <th>4</th>\n",
       "      <td>Slice</td>\n",
       "      <td>https://sliceit.com</td>\n",
       "      <td>36.0</td>\n",
       "      <td>21.0</td>\n",
       "      <td>Debt - VIII</td>\n",
       "      <td>July 19, 2024</td>\n",
       "      <td>June 2022</td>\n",
       "      <td>NaN</td>\n",
       "      <td>390.50</td>\n",
       "      <td>7.77</td>\n",
       "      <td>1800.0</td>\n",
       "      <td>NaN</td>\n",
       "    </tr>\n",
       "  </tbody>\n",
       "</table>\n",
       "</div>"
      ],
      "text/plain": [
       "            name                   website  investor_count  funding_count  \\\n",
       "0  Valera Health  https://valerahealth.com            20.0            8.0   \n",
       "1         Bestow        https://bestow.com             8.0            5.0   \n",
       "2        PlainID       https://plainid.com            10.0            5.0   \n",
       "3       Snapcart   https://snapcart.global             9.0            4.0   \n",
       "4          Slice       https://sliceit.com            36.0           21.0   \n",
       "\n",
       "  funding_last_type  funding_last_date valuation_date  revenue_year  \\\n",
       "0     Series B - II      April 9, 2024            NaN           NaN   \n",
       "1          Series C  December 16, 2020            NaN           NaN   \n",
       "2          Series C  December 21, 2021  December 2020           NaN   \n",
       "3          Series A   October 25, 2017            NaN           NaN   \n",
       "4       Debt - VIII      July 19, 2024      June 2022           NaN   \n",
       "\n",
       "   funding_total_numeric_millions  funding_last_numeric_millions  \\\n",
       "0                           76.32                           9.12   \n",
       "1                          138.10                          70.00   \n",
       "2                           99.00                          75.00   \n",
       "3                           14.70                          10.00   \n",
       "4                          390.50                           7.77   \n",
       "\n",
       "   valuation_numeric_millions  revenue_total_numeric_millions  \n",
       "0                         NaN                             NaN  \n",
       "1                         NaN                             NaN  \n",
       "2                        48.0                             NaN  \n",
       "3                         NaN                             NaN  \n",
       "4                      1800.0                             NaN  "
      ]
     },
     "execution_count": 175,
     "metadata": {},
     "output_type": "execute_result"
    }
   ],
   "source": [
    "financials.drop(['revenue_total'], axis=1, inplace=True)\n",
    "financials.head()"
   ]
  },
  {
   "cell_type": "markdown",
   "id": "5a157111-0a6f-4ec3-9eaa-2842ba56c772",
   "metadata": {},
   "source": [
    "#### Now on to `overviews.csv`"
   ]
  },
  {
   "cell_type": "code",
   "execution_count": 190,
   "id": "3db2833a-2ff5-4ba2-b7eb-1c2fe4c389df",
   "metadata": {},
   "outputs": [
    {
     "data": {
      "text/plain": [
       "7246"
      ]
     },
     "execution_count": 190,
     "metadata": {},
     "output_type": "execute_result"
    }
   ],
   "source": [
    "len(overviews)"
   ]
  },
  {
   "cell_type": "code",
   "execution_count": 191,
   "id": "4301471a-8b26-4c95-8afa-d4436beae7b0",
   "metadata": {},
   "outputs": [
    {
     "data": {
      "text/plain": [
       "name                 1\n",
       "website              1\n",
       "cb_description      18\n",
       "year_founded       569\n",
       "mosaic_change     1784\n",
       "city               557\n",
       "region            2011\n",
       "country             68\n",
       "postal             835\n",
       "dtype: int64"
      ]
     },
     "execution_count": 191,
     "metadata": {},
     "output_type": "execute_result"
    }
   ],
   "source": [
    "overviews.isnull().sum()"
   ]
  },
  {
   "cell_type": "markdown",
   "id": "860247b5-e403-4a82-802a-436a4b5a9cd6",
   "metadata": {},
   "source": [
    "Lets drop the row with a null name and website."
   ]
  },
  {
   "cell_type": "code",
   "execution_count": 192,
   "id": "5e02bc16-21a3-4d93-a536-627ad5694eba",
   "metadata": {},
   "outputs": [],
   "source": [
    "overviews = overviews.dropna(subset=['name'])"
   ]
  },
  {
   "cell_type": "code",
   "execution_count": 193,
   "id": "8321a1c2-d6eb-4ab5-81d7-35b5465e4493",
   "metadata": {},
   "outputs": [
    {
     "data": {
      "text/plain": [
       "name                 0\n",
       "website              0\n",
       "cb_description      17\n",
       "year_founded       568\n",
       "mosaic_change     1783\n",
       "city               556\n",
       "region            2010\n",
       "country             67\n",
       "postal             834\n",
       "dtype: int64"
      ]
     },
     "execution_count": 193,
     "metadata": {},
     "output_type": "execute_result"
    }
   ],
   "source": [
    "overviews.isnull().sum()"
   ]
  },
  {
   "cell_type": "markdown",
   "id": "d23bd51a-dc51-4fc6-a467-f0bf8d8b0d14",
   "metadata": {},
   "source": [
    "We can also drop the rows without descriptions."
   ]
  },
  {
   "cell_type": "code",
   "execution_count": 195,
   "id": "8f1a8c0d-9aa4-42e6-bb24-988f271654e0",
   "metadata": {},
   "outputs": [],
   "source": [
    "overviews = overviews.dropna(subset=['cb_description'])"
   ]
  },
  {
   "cell_type": "code",
   "execution_count": 196,
   "id": "f5a32eab-16c2-4552-a691-8c4bb049c688",
   "metadata": {},
   "outputs": [
    {
     "data": {
      "text/plain": [
       "name                 0\n",
       "website              0\n",
       "cb_description       0\n",
       "year_founded       551\n",
       "mosaic_change     1766\n",
       "city               539\n",
       "region            1993\n",
       "country             50\n",
       "postal             817\n",
       "dtype: int64"
      ]
     },
     "execution_count": 196,
     "metadata": {},
     "output_type": "execute_result"
    }
   ],
   "source": [
    "overviews.isnull().sum()"
   ]
  },
  {
   "cell_type": "markdown",
   "id": "6e37c170-e900-47e1-b7b3-d8e89361cfc8",
   "metadata": {},
   "source": [
    "Next, we will drop the rows without countries."
   ]
  },
  {
   "cell_type": "code",
   "execution_count": 197,
   "id": "0b612d83-3ecf-4212-ae9c-85872ff37e00",
   "metadata": {},
   "outputs": [],
   "source": [
    "overviews = overviews.dropna(subset=['country'])"
   ]
  },
  {
   "cell_type": "code",
   "execution_count": 198,
   "id": "ce4c9661-ef16-4943-8439-99b85c8d8e04",
   "metadata": {},
   "outputs": [
    {
     "data": {
      "text/plain": [
       "name                 0\n",
       "website              0\n",
       "cb_description       0\n",
       "year_founded       502\n",
       "mosaic_change     1716\n",
       "city               489\n",
       "region            1943\n",
       "country              0\n",
       "postal             767\n",
       "dtype: int64"
      ]
     },
     "execution_count": 198,
     "metadata": {},
     "output_type": "execute_result"
    }
   ],
   "source": [
    "overviews.isnull().sum()"
   ]
  },
  {
   "cell_type": "markdown",
   "id": "80c60f11-cf26-4248-80de-9d655cff86da",
   "metadata": {},
   "source": [
    "It is okay for `year_founded`, `city`, `region`, and `postal` to have missing values. The final column to impute is `mosaic_change`."
   ]
  },
  {
   "cell_type": "code",
   "execution_count": 201,
   "id": "842fe76f-d0f7-4c93-a199-4d88e677b4b9",
   "metadata": {},
   "outputs": [
    {
     "name": "stdout",
     "output_type": "stream",
     "text": [
      "Mean: -19.12\n",
      "Median: -38.00\n",
      "Mode: -41.00\n",
      "Skew: 0.97\n"
     ]
    },
    {
     "data": {
      "image/png": "[encoded data removed]",
      "text/plain": [
       "<Figure size 640x480 with 1 Axes>"
      ]
     },
     "metadata": {},
     "output_type": "display_data"
    }
   ],
   "source": [
    "mosaic_change_mean = overviews['mosaic_change'].mean(skipna=True)\n",
    "mosaic_change_median = overviews['mosaic_change'].median(skipna=True)\n",
    "mosaic_change_mode = overviews['mosaic_change'].mode()\n",
    "mosaic_change_skew = overviews['mosaic_change'].skew(skipna=True)\n",
    "\n",
    "print_stats(mosaic_change_mean, mosaic_change_median, mosaic_change_mode, mosaic_change_skew)\n",
    "\n",
    "sns.histplot(overviews['mosaic_change'], kde=True, bins=40)\n",
    "plt.show()"
   ]
  },
  {
   "cell_type": "markdown",
   "id": "1a6d52fc-d14d-41cd-858f-f916f55790c9",
   "metadata": {},
   "source": [
    "We can see scores are moderately skewed, so we will be using the median."
   ]
  },
  {
   "cell_type": "code",
   "execution_count": 202,
   "id": "222ede0f-9235-42fa-9083-f53cacd7dc91",
   "metadata": {},
   "outputs": [
    {
     "data": {
      "text/plain": [
       "0"
      ]
     },
     "execution_count": 202,
     "metadata": {},
     "output_type": "execute_result"
    }
   ],
   "source": [
    "overviews['mosaic_change'].fillna(mosaic_change_median, inplace=True)\n",
    "overviews['mosaic_change'].isnull().sum()"
   ]
  },
  {
   "cell_type": "code",
   "execution_count": 205,
   "id": "64eb2bc1-7ff9-49f8-90ed-a060a67af3bd",
   "metadata": {},
   "outputs": [
    {
     "data": {
      "text/plain": [
       "name                 0\n",
       "website              0\n",
       "cb_description       0\n",
       "year_founded       502\n",
       "mosaic_change        0\n",
       "city               489\n",
       "region            1943\n",
       "country              0\n",
       "postal             767\n",
       "dtype: int64"
      ]
     },
     "execution_count": 205,
     "metadata": {},
     "output_type": "execute_result"
    }
   ],
   "source": [
    "overviews.isnull().sum()"
   ]
  },
  {
   "cell_type": "markdown",
   "id": "87b71a81-4c36-4c4c-8442-1e872340e7c9",
   "metadata": {},
   "source": [
    "## Type conversion"
   ]
  },
  {
   "cell_type": "markdown",
   "id": "e622dcf7-1950-44dd-8ac4-8b13b2f01f40",
   "metadata": {},
   "source": [
    "We will leave the types in `profiles.csv` as objects because they are mostly strings and some contain lists and JSON objects."
   ]
  },
  {
   "cell_type": "code",
   "execution_count": 207,
   "id": "417fbff5-73e9-449b-9f5a-60d2aaa44890",
   "metadata": {},
   "outputs": [
    {
     "name": "stdout",
     "output_type": "stream",
     "text": [
      "<class 'pandas.core.frame.DataFrame'>\n",
      "RangeIndex: 8363 entries, 0 to 8362\n",
      "Data columns (total 8 columns):\n",
      " #   Column     Non-Null Count  Dtype \n",
      "---  ------     --------------  ----- \n",
      " 0   name       8363 non-null   object\n",
      " 1   tagline    8363 non-null   object\n",
      " 2   website    8363 non-null   object\n",
      " 3   summary    8363 non-null   object\n",
      " 4   concepts   8363 non-null   object\n",
      " 5   keywords   8363 non-null   object\n",
      " 6   sentiment  8363 non-null   object\n",
      " 7   articles   8363 non-null   object\n",
      "dtypes: object(8)\n",
      "memory usage: 522.8+ KB\n"
     ]
    }
   ],
   "source": [
    "profiles.info()"
   ]
  },
  {
   "cell_type": "markdown",
   "id": "6698f4a3-028c-4f4e-92b3-b8bc0fcd5b3c",
   "metadata": {},
   "source": [
    "##### 1. Int types"
   ]
  },
  {
   "cell_type": "code",
   "execution_count": 176,
   "id": "a86c701c-cb8c-4f26-b1cb-df03ffab6fb7",
   "metadata": {},
   "outputs": [],
   "source": [
    "l = ['investor_count', 'funding_count']\n",
    "for i in l:\n",
    "    financials[i] = pd.to_numeric(financials[i], errors='coerce').astype('Int64')"
   ]
  },
  {
   "cell_type": "code",
   "execution_count": 177,
   "id": "6515af21-d608-4d6f-8560-70a38162db63",
   "metadata": {},
   "outputs": [
    {
     "name": "stdout",
     "output_type": "stream",
     "text": [
      "<class 'pandas.core.frame.DataFrame'>\n",
      "RangeIndex: 6874 entries, 0 to 6873\n",
      "Data columns (total 12 columns):\n",
      " #   Column                          Non-Null Count  Dtype  \n",
      "---  ------                          --------------  -----  \n",
      " 0   name                            6874 non-null   object \n",
      " 1   website                         6874 non-null   object \n",
      " 2   investor_count                  6874 non-null   Int64  \n",
      " 3   funding_count                   6874 non-null   Int64  \n",
      " 4   funding_last_type               6874 non-null   object \n",
      " 5   funding_last_date               6780 non-null   object \n",
      " 6   valuation_date                  866 non-null    object \n",
      " 7   revenue_year                    263 non-null    float64\n",
      " 8   funding_total_numeric_millions  6874 non-null   float64\n",
      " 9   funding_last_numeric_millions   6874 non-null   float64\n",
      " 10  valuation_numeric_millions      866 non-null    float64\n",
      " 11  revenue_total_numeric_millions  263 non-null    float64\n",
      "dtypes: Int64(2), float64(5), object(5)\n",
      "memory usage: 658.0+ KB\n"
     ]
    }
   ],
   "source": [
    "financials.info()"
   ]
  },
  {
   "cell_type": "markdown",
   "id": "571eecf5-2942-4d27-871e-de50a64d11b3",
   "metadata": {},
   "source": [
    "##### 2. Categorical types"
   ]
  },
  {
   "cell_type": "code",
   "execution_count": 178,
   "id": "6cac4aca-1e84-4d3d-9d65-440278a5cc4a",
   "metadata": {},
   "outputs": [],
   "source": [
    "l = ['funding_last_type']\n",
    "for i in l:\n",
    "    financials[i] = financials[i].astype('category')"
   ]
  },
  {
   "cell_type": "code",
   "execution_count": 179,
   "id": "d5bac3e5-fe69-4de5-a2ec-698b36c6e0ba",
   "metadata": {},
   "outputs": [
    {
     "name": "stdout",
     "output_type": "stream",
     "text": [
      "<class 'pandas.core.frame.DataFrame'>\n",
      "RangeIndex: 6874 entries, 0 to 6873\n",
      "Data columns (total 12 columns):\n",
      " #   Column                          Non-Null Count  Dtype   \n",
      "---  ------                          --------------  -----   \n",
      " 0   name                            6874 non-null   object  \n",
      " 1   website                         6874 non-null   object  \n",
      " 2   investor_count                  6874 non-null   Int64   \n",
      " 3   funding_count                   6874 non-null   Int64   \n",
      " 4   funding_last_type               6874 non-null   category\n",
      " 5   funding_last_date               6780 non-null   object  \n",
      " 6   valuation_date                  866 non-null    object  \n",
      " 7   revenue_year                    263 non-null    float64 \n",
      " 8   funding_total_numeric_millions  6874 non-null   float64 \n",
      " 9   funding_last_numeric_millions   6874 non-null   float64 \n",
      " 10  valuation_numeric_millions      866 non-null    float64 \n",
      " 11  revenue_total_numeric_millions  263 non-null    float64 \n",
      "dtypes: Int64(2), category(1), float64(5), object(4)\n",
      "memory usage: 623.0+ KB\n"
     ]
    }
   ],
   "source": [
    "financials.info()"
   ]
  },
  {
   "cell_type": "code",
   "execution_count": 210,
   "id": "89249745-1ab7-4f88-9e1a-d2314674f9ef",
   "metadata": {},
   "outputs": [],
   "source": [
    "l = ['city', 'region', 'country', 'postal']\n",
    "for i in l:\n",
    "    overviews[i] = overviews[i].astype('category')"
   ]
  },
  {
   "cell_type": "code",
   "execution_count": 211,
   "id": "beadfef5-adb5-4b04-8fea-e79749bab01d",
   "metadata": {},
   "outputs": [
    {
     "name": "stdout",
     "output_type": "stream",
     "text": [
      "<class 'pandas.core.frame.DataFrame'>\n",
      "Int64Index: 7178 entries, 0 to 7245\n",
      "Data columns (total 9 columns):\n",
      " #   Column          Non-Null Count  Dtype   \n",
      "---  ------          --------------  -----   \n",
      " 0   name            7178 non-null   object  \n",
      " 1   website         7178 non-null   object  \n",
      " 2   cb_description  7178 non-null   object  \n",
      " 3   year_founded    6676 non-null   object  \n",
      " 4   mosaic_change   7178 non-null   float64 \n",
      " 5   city            6689 non-null   category\n",
      " 6   region          5235 non-null   category\n",
      " 7   country         7178 non-null   category\n",
      " 8   postal          6411 non-null   category\n",
      "dtypes: category(4), float64(1), object(4)\n",
      "memory usage: 526.9+ KB\n"
     ]
    }
   ],
   "source": [
    "overviews.info()"
   ]
  },
  {
   "cell_type": "markdown",
   "id": "b41ffde9-3f7e-4d6c-b67f-7685c7d67ffe",
   "metadata": {},
   "source": [
    "##### 4. Datetime types (formatted as string in object type)"
   ]
  },
  {
   "cell_type": "code",
   "execution_count": 184,
   "id": "ef8cc0aa-62d6-4fa0-86dd-48d909fd4913",
   "metadata": {},
   "outputs": [],
   "source": [
    "financials['funding_last_date'] = pd.to_datetime(financials['funding_last_date'], format='%B %d, %Y', errors='coerce')\n",
    "financials['valuation_date'] = pd.to_datetime(financials['valuation_date'], format='%B %Y', errors='coerce')\n",
    "financials['revenue_year'] = pd.to_datetime(financials['revenue_year'], format='%Y', errors='coerce')\n",
    "\n",
    "financials['funding_last_date'] = financials['funding_last_date'].dt.strftime('%Y-%m-%d')\n",
    "financials['valuation_date'] = financials['valuation_date'].dt.strftime('%Y-%m')\n",
    "financials['revenue_year'] = financials['revenue_year'].dt.strftime('%Y') "
   ]
  },
  {
   "cell_type": "code",
   "execution_count": 185,
   "id": "6d76e9fc-fd22-4f1a-bb54-dd129f477753",
   "metadata": {},
   "outputs": [
    {
     "name": "stdout",
     "output_type": "stream",
     "text": [
      "<class 'pandas.core.frame.DataFrame'>\n",
      "RangeIndex: 6874 entries, 0 to 6873\n",
      "Data columns (total 12 columns):\n",
      " #   Column                          Non-Null Count  Dtype   \n",
      "---  ------                          --------------  -----   \n",
      " 0   name                            6874 non-null   object  \n",
      " 1   website                         6874 non-null   object  \n",
      " 2   investor_count                  6874 non-null   Int64   \n",
      " 3   funding_count                   6874 non-null   Int64   \n",
      " 4   funding_last_type               6874 non-null   category\n",
      " 5   funding_last_date               6780 non-null   object  \n",
      " 6   valuation_date                  866 non-null    object  \n",
      " 7   revenue_year                    263 non-null    object  \n",
      " 8   funding_total_numeric_millions  6874 non-null   float64 \n",
      " 9   funding_last_numeric_millions   6874 non-null   float64 \n",
      " 10  valuation_numeric_millions      866 non-null    float64 \n",
      " 11  revenue_total_numeric_millions  263 non-null    float64 \n",
      "dtypes: Int64(2), category(1), float64(4), object(5)\n",
      "memory usage: 623.0+ KB\n"
     ]
    }
   ],
   "source": [
    "financials.info()"
   ]
  },
  {
   "cell_type": "code",
   "execution_count": 214,
   "id": "584562bf-b30d-4a50-9579-f12d05b003a7",
   "metadata": {},
   "outputs": [],
   "source": [
    "overviews['year_founded'] = pd.to_datetime(overviews['year_founded'], format='%Y', errors='coerce')\n",
    "\n",
    "overviews['year_founded'] = overviews['year_founded'].dt.strftime('%Y')"
   ]
  },
  {
   "cell_type": "code",
   "execution_count": 215,
   "id": "8344b80e-5764-4cb5-b112-5237e9cd350e",
   "metadata": {},
   "outputs": [
    {
     "name": "stdout",
     "output_type": "stream",
     "text": [
      "<class 'pandas.core.frame.DataFrame'>\n",
      "Int64Index: 7178 entries, 0 to 7245\n",
      "Data columns (total 9 columns):\n",
      " #   Column          Non-Null Count  Dtype   \n",
      "---  ------          --------------  -----   \n",
      " 0   name            7178 non-null   object  \n",
      " 1   website         7178 non-null   object  \n",
      " 2   cb_description  7178 non-null   object  \n",
      " 3   year_founded    6675 non-null   object  \n",
      " 4   mosaic_change   7178 non-null   float64 \n",
      " 5   city            6689 non-null   category\n",
      " 6   region          5235 non-null   category\n",
      " 7   country         7178 non-null   category\n",
      " 8   postal          6411 non-null   category\n",
      "dtypes: category(4), float64(1), object(4)\n",
      "memory usage: 526.9+ KB\n"
     ]
    }
   ],
   "source": [
    "overviews.info()"
   ]
  },
  {
   "cell_type": "markdown",
   "id": "7fd3a2b3-3201-42a3-9905-b65bdc7845c3",
   "metadata": {},
   "source": [
    "# Summary of cleaned datasets"
   ]
  },
  {
   "cell_type": "code",
   "execution_count": 225,
   "id": "d7517ce4-ca7e-4f16-a540-0cb4ed995904",
   "metadata": {},
   "outputs": [
    {
     "name": "stdout",
     "output_type": "stream",
     "text": [
      "<class 'pandas.core.frame.DataFrame'>\n",
      "RangeIndex: 8363 entries, 0 to 8362\n",
      "Data columns (total 8 columns):\n",
      " #   Column     Non-Null Count  Dtype \n",
      "---  ------     --------------  ----- \n",
      " 0   name       8363 non-null   object\n",
      " 1   tagline    8363 non-null   object\n",
      " 2   website    8363 non-null   object\n",
      " 3   summary    8363 non-null   object\n",
      " 4   concepts   8363 non-null   object\n",
      " 5   keywords   8363 non-null   object\n",
      " 6   sentiment  8363 non-null   object\n",
      " 7   articles   8363 non-null   object\n",
      "dtypes: object(8)\n",
      "memory usage: 522.8+ KB\n"
     ]
    }
   ],
   "source": [
    "profiles.info()"
   ]
  },
  {
   "cell_type": "code",
   "execution_count": 218,
   "id": "3795f53b-11e4-44b5-8fb7-6ef2c7ac2595",
   "metadata": {},
   "outputs": [
    {
     "data": {
      "text/html": [
       "<div>\n",
       "<style scoped>\n",
       "    .dataframe tbody tr th:only-of-type {\n",
       "        vertical-align: middle;\n",
       "    }\n",
       "\n",
       "    .dataframe tbody tr th {\n",
       "        vertical-align: top;\n",
       "    }\n",
       "\n",
       "    .dataframe thead th {\n",
       "        text-align: right;\n",
       "    }\n",
       "</style>\n",
       "<table border=\"1\" class=\"dataframe\">\n",
       "  <thead>\n",
       "    <tr style=\"text-align: right;\">\n",
       "      <th></th>\n",
       "      <th>name</th>\n",
       "      <th>tagline</th>\n",
       "      <th>website</th>\n",
       "      <th>summary</th>\n",
       "      <th>concepts</th>\n",
       "      <th>keywords</th>\n",
       "      <th>sentiment</th>\n",
       "      <th>articles</th>\n",
       "    </tr>\n",
       "  </thead>\n",
       "  <tbody>\n",
       "    <tr>\n",
       "      <th>0</th>\n",
       "      <td>Valera Health</td>\n",
       "      <td>Your Path to Wellness, Just a Click Away</td>\n",
       "      <td>https://valerahealth.com</td>\n",
       "      <td>Valera Health, based in New York, is a mental ...</td>\n",
       "      <td>['Comprehensive mental healthcare services for...</td>\n",
       "      <td>['Mental Health Care', 'Telemedicine', 'Health...</td>\n",
       "      <td>{'sentimentScore': 100, 'cntPositive': 15, 'cn...</td>\n",
       "      <td>[{'contentId': 'ab325015a7bbae7beefc4833b73696...</td>\n",
       "    </tr>\n",
       "    <tr>\n",
       "      <th>1</th>\n",
       "      <td>Bestow</td>\n",
       "      <td>Protecting Life, Simplified</td>\n",
       "      <td>https://bestow.com</td>\n",
       "      <td>Bestow is a Texas-based company that offers fa...</td>\n",
       "      <td>['Offers fast and affordable term life insuran...</td>\n",
       "      <td>['Insurance', 'Technology', 'Healthcare', 'Fin...</td>\n",
       "      <td>{'sentimentScore': 90, 'cntPositive': 48, 'cnt...</td>\n",
       "      <td>[{'contentId': 'b633176d-6378-46d0-9b15-d2b611...</td>\n",
       "    </tr>\n",
       "    <tr>\n",
       "      <th>2</th>\n",
       "      <td>Mediktor</td>\n",
       "      <td>Revolutionizing Healthcare, One AI-Powered Dia...</td>\n",
       "      <td>https://mediktor.com</td>\n",
       "      <td>Mediktor is a company based in Catalonia that ...</td>\n",
       "      <td>['Specializes in AI-driven healthcare technolo...</td>\n",
       "      <td>['Healthcare Technology', 'Artificial Intellig...</td>\n",
       "      <td>{'sentimentScore': 100, 'cntPositive': 8, 'cnt...</td>\n",
       "      <td>[{'contentId': 'cb5d965c-68e4-4f44-a4e9-07ac8d...</td>\n",
       "    </tr>\n",
       "  </tbody>\n",
       "</table>\n",
       "</div>"
      ],
      "text/plain": [
       "            name                                            tagline  \\\n",
       "0  Valera Health           Your Path to Wellness, Just a Click Away   \n",
       "1         Bestow                        Protecting Life, Simplified   \n",
       "2       Mediktor  Revolutionizing Healthcare, One AI-Powered Dia...   \n",
       "\n",
       "                    website  \\\n",
       "0  https://valerahealth.com   \n",
       "1        https://bestow.com   \n",
       "2      https://mediktor.com   \n",
       "\n",
       "                                             summary  \\\n",
       "0  Valera Health, based in New York, is a mental ...   \n",
       "1  Bestow is a Texas-based company that offers fa...   \n",
       "2  Mediktor is a company based in Catalonia that ...   \n",
       "\n",
       "                                            concepts  \\\n",
       "0  ['Comprehensive mental healthcare services for...   \n",
       "1  ['Offers fast and affordable term life insuran...   \n",
       "2  ['Specializes in AI-driven healthcare technolo...   \n",
       "\n",
       "                                            keywords  \\\n",
       "0  ['Mental Health Care', 'Telemedicine', 'Health...   \n",
       "1  ['Insurance', 'Technology', 'Healthcare', 'Fin...   \n",
       "2  ['Healthcare Technology', 'Artificial Intellig...   \n",
       "\n",
       "                                           sentiment  \\\n",
       "0  {'sentimentScore': 100, 'cntPositive': 15, 'cn...   \n",
       "1  {'sentimentScore': 90, 'cntPositive': 48, 'cnt...   \n",
       "2  {'sentimentScore': 100, 'cntPositive': 8, 'cnt...   \n",
       "\n",
       "                                            articles  \n",
       "0  [{'contentId': 'ab325015a7bbae7beefc4833b73696...  \n",
       "1  [{'contentId': 'b633176d-6378-46d0-9b15-d2b611...  \n",
       "2  [{'contentId': 'cb5d965c-68e4-4f44-a4e9-07ac8d...  "
      ]
     },
     "execution_count": 218,
     "metadata": {},
     "output_type": "execute_result"
    }
   ],
   "source": [
    "profiles.head(3)"
   ]
  },
  {
   "cell_type": "code",
   "execution_count": 224,
   "id": "6563f3c2-f61f-4d30-9841-96488516d7a0",
   "metadata": {},
   "outputs": [
    {
     "name": "stdout",
     "output_type": "stream",
     "text": [
      "<class 'pandas.core.frame.DataFrame'>\n",
      "RangeIndex: 6874 entries, 0 to 6873\n",
      "Data columns (total 12 columns):\n",
      " #   Column                          Non-Null Count  Dtype   \n",
      "---  ------                          --------------  -----   \n",
      " 0   name                            6874 non-null   object  \n",
      " 1   website                         6874 non-null   object  \n",
      " 2   investor_count                  6874 non-null   Int64   \n",
      " 3   funding_count                   6874 non-null   Int64   \n",
      " 4   funding_last_type               6874 non-null   category\n",
      " 5   funding_last_date               6780 non-null   object  \n",
      " 6   valuation_date                  866 non-null    object  \n",
      " 7   revenue_year                    263 non-null    object  \n",
      " 8   funding_total_numeric_millions  6874 non-null   float64 \n",
      " 9   funding_last_numeric_millions   6874 non-null   float64 \n",
      " 10  valuation_numeric_millions      866 non-null    float64 \n",
      " 11  revenue_total_numeric_millions  263 non-null    float64 \n",
      "dtypes: Int64(2), category(1), float64(4), object(5)\n",
      "memory usage: 623.0+ KB\n"
     ]
    }
   ],
   "source": [
    "financials.info()"
   ]
  },
  {
   "cell_type": "code",
   "execution_count": 220,
   "id": "4cbf8407-2d3a-4cb4-8de3-d8cff763d793",
   "metadata": {},
   "outputs": [
    {
     "data": {
      "text/html": [
       "<div>\n",
       "<style scoped>\n",
       "    .dataframe tbody tr th:only-of-type {\n",
       "        vertical-align: middle;\n",
       "    }\n",
       "\n",
       "    .dataframe tbody tr th {\n",
       "        vertical-align: top;\n",
       "    }\n",
       "\n",
       "    .dataframe thead th {\n",
       "        text-align: right;\n",
       "    }\n",
       "</style>\n",
       "<table border=\"1\" class=\"dataframe\">\n",
       "  <thead>\n",
       "    <tr style=\"text-align: right;\">\n",
       "      <th></th>\n",
       "      <th>name</th>\n",
       "      <th>website</th>\n",
       "      <th>investor_count</th>\n",
       "      <th>funding_count</th>\n",
       "      <th>funding_last_type</th>\n",
       "      <th>funding_last_date</th>\n",
       "      <th>valuation_date</th>\n",
       "      <th>revenue_year</th>\n",
       "      <th>funding_total_numeric_millions</th>\n",
       "      <th>funding_last_numeric_millions</th>\n",
       "      <th>valuation_numeric_millions</th>\n",
       "      <th>revenue_total_numeric_millions</th>\n",
       "    </tr>\n",
       "  </thead>\n",
       "  <tbody>\n",
       "    <tr>\n",
       "      <th>0</th>\n",
       "      <td>Valera Health</td>\n",
       "      <td>https://valerahealth.com</td>\n",
       "      <td>20</td>\n",
       "      <td>8</td>\n",
       "      <td>Series B - II</td>\n",
       "      <td>2024-04-09</td>\n",
       "      <td>NaN</td>\n",
       "      <td>NaN</td>\n",
       "      <td>76.32</td>\n",
       "      <td>9.12</td>\n",
       "      <td>NaN</td>\n",
       "      <td>NaN</td>\n",
       "    </tr>\n",
       "    <tr>\n",
       "      <th>1</th>\n",
       "      <td>Bestow</td>\n",
       "      <td>https://bestow.com</td>\n",
       "      <td>8</td>\n",
       "      <td>5</td>\n",
       "      <td>Series C</td>\n",
       "      <td>2020-12-16</td>\n",
       "      <td>NaN</td>\n",
       "      <td>NaN</td>\n",
       "      <td>138.10</td>\n",
       "      <td>70.00</td>\n",
       "      <td>NaN</td>\n",
       "      <td>NaN</td>\n",
       "    </tr>\n",
       "    <tr>\n",
       "      <th>2</th>\n",
       "      <td>PlainID</td>\n",
       "      <td>https://plainid.com</td>\n",
       "      <td>10</td>\n",
       "      <td>5</td>\n",
       "      <td>Series C</td>\n",
       "      <td>2021-12-21</td>\n",
       "      <td>2020-12</td>\n",
       "      <td>NaN</td>\n",
       "      <td>99.00</td>\n",
       "      <td>75.00</td>\n",
       "      <td>48.0</td>\n",
       "      <td>NaN</td>\n",
       "    </tr>\n",
       "  </tbody>\n",
       "</table>\n",
       "</div>"
      ],
      "text/plain": [
       "            name                   website  investor_count  funding_count  \\\n",
       "0  Valera Health  https://valerahealth.com              20              8   \n",
       "1         Bestow        https://bestow.com               8              5   \n",
       "2        PlainID       https://plainid.com              10              5   \n",
       "\n",
       "  funding_last_type funding_last_date valuation_date revenue_year  \\\n",
       "0     Series B - II        2024-04-09            NaN          NaN   \n",
       "1          Series C        2020-12-16            NaN          NaN   \n",
       "2          Series C        2021-12-21        2020-12          NaN   \n",
       "\n",
       "   funding_total_numeric_millions  funding_last_numeric_millions  \\\n",
       "0                           76.32                           9.12   \n",
       "1                          138.10                          70.00   \n",
       "2                           99.00                          75.00   \n",
       "\n",
       "   valuation_numeric_millions  revenue_total_numeric_millions  \n",
       "0                         NaN                             NaN  \n",
       "1                         NaN                             NaN  \n",
       "2                        48.0                             NaN  "
      ]
     },
     "execution_count": 220,
     "metadata": {},
     "output_type": "execute_result"
    }
   ],
   "source": [
    "financials.head(3)"
   ]
  },
  {
   "cell_type": "code",
   "execution_count": 223,
   "id": "808cb687-09c5-494f-a01b-1f3316790f7d",
   "metadata": {},
   "outputs": [
    {
     "name": "stdout",
     "output_type": "stream",
     "text": [
      "<class 'pandas.core.frame.DataFrame'>\n",
      "Int64Index: 7178 entries, 0 to 7245\n",
      "Data columns (total 9 columns):\n",
      " #   Column          Non-Null Count  Dtype   \n",
      "---  ------          --------------  -----   \n",
      " 0   name            7178 non-null   object  \n",
      " 1   website         7178 non-null   object  \n",
      " 2   cb_description  7178 non-null   object  \n",
      " 3   year_founded    6675 non-null   object  \n",
      " 4   mosaic_change   7178 non-null   float64 \n",
      " 5   city            6689 non-null   category\n",
      " 6   region          5235 non-null   category\n",
      " 7   country         7178 non-null   category\n",
      " 8   postal          6411 non-null   category\n",
      "dtypes: category(4), float64(1), object(4)\n",
      "memory usage: 526.9+ KB\n"
     ]
    }
   ],
   "source": [
    "overviews.info()"
   ]
  },
  {
   "cell_type": "code",
   "execution_count": 222,
   "id": "768188cd-110d-440b-a01e-08df4a2e187e",
   "metadata": {},
   "outputs": [
    {
     "data": {
      "text/html": [
       "<div>\n",
       "<style scoped>\n",
       "    .dataframe tbody tr th:only-of-type {\n",
       "        vertical-align: middle;\n",
       "    }\n",
       "\n",
       "    .dataframe tbody tr th {\n",
       "        vertical-align: top;\n",
       "    }\n",
       "\n",
       "    .dataframe thead th {\n",
       "        text-align: right;\n",
       "    }\n",
       "</style>\n",
       "<table border=\"1\" class=\"dataframe\">\n",
       "  <thead>\n",
       "    <tr style=\"text-align: right;\">\n",
       "      <th></th>\n",
       "      <th>name</th>\n",
       "      <th>website</th>\n",
       "      <th>cb_description</th>\n",
       "      <th>year_founded</th>\n",
       "      <th>mosaic_change</th>\n",
       "      <th>city</th>\n",
       "      <th>region</th>\n",
       "      <th>country</th>\n",
       "      <th>postal</th>\n",
       "    </tr>\n",
       "  </thead>\n",
       "  <tbody>\n",
       "    <tr>\n",
       "      <th>0</th>\n",
       "      <td>Valera Health</td>\n",
       "      <td>https://valerahealth.com</td>\n",
       "      <td>Valera Health operates as a tele-mental health...</td>\n",
       "      <td>2015</td>\n",
       "      <td>-117.0</td>\n",
       "      <td>Brooklyn</td>\n",
       "      <td>New York</td>\n",
       "      <td>United States</td>\n",
       "      <td>11249</td>\n",
       "    </tr>\n",
       "    <tr>\n",
       "      <th>1</th>\n",
       "      <td>Bestow</td>\n",
       "      <td>https://bestow.com</td>\n",
       "      <td>Bestow operates as an insurance technology com...</td>\n",
       "      <td>2017</td>\n",
       "      <td>-119.0</td>\n",
       "      <td>Dallas</td>\n",
       "      <td>Texas</td>\n",
       "      <td>United States</td>\n",
       "      <td>75226</td>\n",
       "    </tr>\n",
       "    <tr>\n",
       "      <th>3</th>\n",
       "      <td>PlainID</td>\n",
       "      <td>https://plainid.com</td>\n",
       "      <td>PlainID is an Identity Security Posture Manage...</td>\n",
       "      <td>2014</td>\n",
       "      <td>-120.0</td>\n",
       "      <td>Tel Aviv</td>\n",
       "      <td>NaN</td>\n",
       "      <td>Israel</td>\n",
       "      <td>6789139</td>\n",
       "    </tr>\n",
       "  </tbody>\n",
       "</table>\n",
       "</div>"
      ],
      "text/plain": [
       "            name                   website  \\\n",
       "0  Valera Health  https://valerahealth.com   \n",
       "1         Bestow        https://bestow.com   \n",
       "3        PlainID       https://plainid.com   \n",
       "\n",
       "                                      cb_description year_founded  \\\n",
       "0  Valera Health operates as a tele-mental health...         2015   \n",
       "1  Bestow operates as an insurance technology com...         2017   \n",
       "3  PlainID is an Identity Security Posture Manage...         2014   \n",
       "\n",
       "   mosaic_change      city    region        country   postal  \n",
       "0         -117.0  Brooklyn  New York  United States    11249  \n",
       "1         -119.0    Dallas     Texas  United States    75226  \n",
       "3         -120.0  Tel Aviv       NaN         Israel  6789139  "
      ]
     },
     "execution_count": 222,
     "metadata": {},
     "output_type": "execute_result"
    }
   ],
   "source": [
    "overviews.head(3)"
   ]
  },
  {
   "cell_type": "markdown",
   "id": "28d1405a-7d89-41e5-9b5d-ab81c1cffa0a",
   "metadata": {},
   "source": [
    "As mentioned earlier, seperate tables will be made for startups with revenue and valuation data. Then, those columns will be dropped from the primary table."
   ]
  },
  {
   "cell_type": "markdown",
   "id": "31f58e01-1d25-4053-b9e0-f8c91e33192a",
   "metadata": {},
   "source": [
    "# Write out cleaned datasets into new .csv files"
   ]
  },
  {
   "cell_type": "code",
   "execution_count": 227,
   "id": "847eea29-7e26-4456-98d1-a06c0cb31cb2",
   "metadata": {},
   "outputs": [],
   "source": [
    "profiles.to_csv('../datasets/clean-profiles.csv', index=False)\n",
    "financials.to_csv('../datasets/clean-financials.csv', index=False)\n",
    "overviews.to_csv('../datasets/clean-overviews.csv', index=False)"
   ]
  }
 ],
 "metadata": {
  "kernelspec": {
   "display_name": "Python 3 (ipykernel)",
   "language": "python",
   "name": "python3"
  },
  "language_info": {
   "codemirror_mode": {
    "name": "ipython",
    "version": 3
   },
   "file_extension": ".py",
   "mimetype": "text/x-python",
   "name": "python",
   "nbconvert_exporter": "python",
   "pygments_lexer": "ipython3",
   "version": "3.10.8"
  }
 },
 "nbformat": 4,
 "nbformat_minor": 5
}
