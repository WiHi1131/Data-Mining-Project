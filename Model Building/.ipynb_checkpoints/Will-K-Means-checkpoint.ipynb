{
 "cells": [
  {
   "cell_type": "code",
   "execution_count": 1,
   "id": "0c95c84a-b789-4557-9a5f-0d2e28d9233f",
   "metadata": {},
   "outputs": [],
   "source": [
    "import pandas as pd\n",
    "from sklearn.cluster import KMeans\n",
    "from sklearn.preprocessing import StandardScaler\n",
    "import matplotlib.pyplot as plt\n",
    "%matplotlib inline"
   ]
  },
  {
   "cell_type": "code",
   "execution_count": 2,
   "id": "ce76abd5-43da-4103-9947-d393a681d384",
   "metadata": {},
   "outputs": [],
   "source": [
    "df = pd.read_csv('../clean-datasets/primary.csv')"
   ]
  },
  {
   "cell_type": "code",
   "execution_count": 3,
   "id": "1c62a95f-f08e-4a4d-9257-37cd111b49b4",
   "metadata": {},
   "outputs": [
    {
     "data": {
      "text/html": [
       "<div>\n",
       "<style scoped>\n",
       "    .dataframe tbody tr th:only-of-type {\n",
       "        vertical-align: middle;\n",
       "    }\n",
       "\n",
       "    .dataframe tbody tr th {\n",
       "        vertical-align: top;\n",
       "    }\n",
       "\n",
       "    .dataframe thead th {\n",
       "        text-align: right;\n",
       "    }\n",
       "</style>\n",
       "<table border=\"1\" class=\"dataframe\">\n",
       "  <thead>\n",
       "    <tr style=\"text-align: right;\">\n",
       "      <th></th>\n",
       "      <th>name</th>\n",
       "      <th>tagline</th>\n",
       "      <th>summary</th>\n",
       "      <th>description</th>\n",
       "      <th>year_founded</th>\n",
       "      <th>website</th>\n",
       "      <th>city</th>\n",
       "      <th>region</th>\n",
       "      <th>country</th>\n",
       "      <th>postal_code</th>\n",
       "      <th>...</th>\n",
       "      <th>keywords</th>\n",
       "      <th>investor_count</th>\n",
       "      <th>mosaic_change</th>\n",
       "      <th>funding_total_millions</th>\n",
       "      <th>last_funding_millions</th>\n",
       "      <th>funding_count</th>\n",
       "      <th>last_funding_type</th>\n",
       "      <th>last_funding_date</th>\n",
       "      <th>sentiment</th>\n",
       "      <th>articles</th>\n",
       "    </tr>\n",
       "  </thead>\n",
       "  <tbody>\n",
       "    <tr>\n",
       "      <th>0</th>\n",
       "      <td>Valera Health</td>\n",
       "      <td>Your Path to Wellness, Just a Click Away</td>\n",
       "      <td>Valera Health, based in New York, is a mental ...</td>\n",
       "      <td>Valera Health operates as a tele-mental health...</td>\n",
       "      <td>2015.0</td>\n",
       "      <td>https://valerahealth.com</td>\n",
       "      <td>Brooklyn</td>\n",
       "      <td>New York</td>\n",
       "      <td>United States</td>\n",
       "      <td>11249</td>\n",
       "      <td>...</td>\n",
       "      <td>['Mental Health Care', 'Telemedicine', 'Health...</td>\n",
       "      <td>20</td>\n",
       "      <td>-117.0</td>\n",
       "      <td>76.32</td>\n",
       "      <td>9.12</td>\n",
       "      <td>8</td>\n",
       "      <td>Series B - II</td>\n",
       "      <td>2024-04-09</td>\n",
       "      <td>{'sentimentScore': 100, 'cntPositive': 15, 'cn...</td>\n",
       "      <td>[{'contentId': 'ab325015a7bbae7beefc4833b73696...</td>\n",
       "    </tr>\n",
       "    <tr>\n",
       "      <th>1</th>\n",
       "      <td>Bestow</td>\n",
       "      <td>Protecting Life, Simplified</td>\n",
       "      <td>Bestow is a Texas-based company that offers fa...</td>\n",
       "      <td>Bestow operates as an insurance technology com...</td>\n",
       "      <td>2017.0</td>\n",
       "      <td>https://bestow.com</td>\n",
       "      <td>Dallas</td>\n",
       "      <td>Texas</td>\n",
       "      <td>United States</td>\n",
       "      <td>75226</td>\n",
       "      <td>...</td>\n",
       "      <td>['Insurance', 'Technology', 'Healthcare', 'Fin...</td>\n",
       "      <td>8</td>\n",
       "      <td>-119.0</td>\n",
       "      <td>138.10</td>\n",
       "      <td>70.00</td>\n",
       "      <td>5</td>\n",
       "      <td>Series C</td>\n",
       "      <td>2020-12-16</td>\n",
       "      <td>{'sentimentScore': 90, 'cntPositive': 48, 'cnt...</td>\n",
       "      <td>[{'contentId': 'b633176d-6378-46d0-9b15-d2b611...</td>\n",
       "    </tr>\n",
       "    <tr>\n",
       "      <th>2</th>\n",
       "      <td>PlainID</td>\n",
       "      <td>Secure Your Identity, Empower Your Business</td>\n",
       "      <td>PlainID is a company based in Tel Aviv that sp...</td>\n",
       "      <td>PlainID is an Identity Security Posture Manage...</td>\n",
       "      <td>2014.0</td>\n",
       "      <td>https://plainid.com</td>\n",
       "      <td>Tel Aviv</td>\n",
       "      <td>NaN</td>\n",
       "      <td>Israel</td>\n",
       "      <td>6789139</td>\n",
       "      <td>...</td>\n",
       "      <td>['Cybersecurity', 'Identity Management', 'Data...</td>\n",
       "      <td>10</td>\n",
       "      <td>-120.0</td>\n",
       "      <td>99.00</td>\n",
       "      <td>75.00</td>\n",
       "      <td>5</td>\n",
       "      <td>Series C</td>\n",
       "      <td>2021-12-21</td>\n",
       "      <td>{'sentimentScore': 100, 'cntPositive': 21, 'cn...</td>\n",
       "      <td>[{'contentId': '29c3c127-069d-4be7-aaf6-3a89bb...</td>\n",
       "    </tr>\n",
       "    <tr>\n",
       "      <th>3</th>\n",
       "      <td>Snapcart</td>\n",
       "      <td>Innovating Connections, Empowering Insights</td>\n",
       "      <td>Snapcart is a commercial company based in Jaka...</td>\n",
       "      <td>Snapcart specializes in real-time offline shop...</td>\n",
       "      <td>2015.0</td>\n",
       "      <td>https://snapcart.global</td>\n",
       "      <td>Jakarta</td>\n",
       "      <td>NaN</td>\n",
       "      <td>Indonesia</td>\n",
       "      <td>12940</td>\n",
       "      <td>...</td>\n",
       "      <td>['Artificial Intelligence &amp; Machine Learning',...</td>\n",
       "      <td>9</td>\n",
       "      <td>124.0</td>\n",
       "      <td>14.70</td>\n",
       "      <td>10.00</td>\n",
       "      <td>4</td>\n",
       "      <td>Series A</td>\n",
       "      <td>2017-10-25</td>\n",
       "      <td>{'sentimentScore': 92, 'cntPositive': 7, 'cntN...</td>\n",
       "      <td>[{'contentId': '5ffd28ae-d4f3-46e2-a3b1-526c96...</td>\n",
       "    </tr>\n",
       "    <tr>\n",
       "      <th>4</th>\n",
       "      <td>slice</td>\n",
       "      <td>Experience Money, Mastered.</td>\n",
       "      <td>slice is a financial technology company based ...</td>\n",
       "      <td>Slice operates as a financial technology compa...</td>\n",
       "      <td>2016.0</td>\n",
       "      <td>https://sliceit.com</td>\n",
       "      <td>NaN</td>\n",
       "      <td>Assam</td>\n",
       "      <td>India</td>\n",
       "      <td>781028</td>\n",
       "      <td>...</td>\n",
       "      <td>['FinTech', 'ConsumerTech', 'E-Commerce', 'Dig...</td>\n",
       "      <td>36</td>\n",
       "      <td>-76.0</td>\n",
       "      <td>390.50</td>\n",
       "      <td>7.77</td>\n",
       "      <td>21</td>\n",
       "      <td>Debt - VIII</td>\n",
       "      <td>2024-07-19</td>\n",
       "      <td>{'sentimentScore': 89, 'cntPositive': 36, 'cnt...</td>\n",
       "      <td>[{'contentId': 'ce75fa10-6d0f-45d5-bf66-2532b8...</td>\n",
       "    </tr>\n",
       "  </tbody>\n",
       "</table>\n",
       "<p>5 rows × 21 columns</p>\n",
       "</div>"
      ],
      "text/plain": [
       "            name                                      tagline  \\\n",
       "0  Valera Health     Your Path to Wellness, Just a Click Away   \n",
       "1         Bestow                  Protecting Life, Simplified   \n",
       "2        PlainID  Secure Your Identity, Empower Your Business   \n",
       "3       Snapcart  Innovating Connections, Empowering Insights   \n",
       "4          slice                  Experience Money, Mastered.   \n",
       "\n",
       "                                             summary  \\\n",
       "0  Valera Health, based in New York, is a mental ...   \n",
       "1  Bestow is a Texas-based company that offers fa...   \n",
       "2  PlainID is a company based in Tel Aviv that sp...   \n",
       "3  Snapcart is a commercial company based in Jaka...   \n",
       "4  slice is a financial technology company based ...   \n",
       "\n",
       "                                         description  year_founded  \\\n",
       "0  Valera Health operates as a tele-mental health...        2015.0   \n",
       "1  Bestow operates as an insurance technology com...        2017.0   \n",
       "2  PlainID is an Identity Security Posture Manage...        2014.0   \n",
       "3  Snapcart specializes in real-time offline shop...        2015.0   \n",
       "4  Slice operates as a financial technology compa...        2016.0   \n",
       "\n",
       "                    website      city    region        country postal_code  \\\n",
       "0  https://valerahealth.com  Brooklyn  New York  United States       11249   \n",
       "1        https://bestow.com    Dallas     Texas  United States       75226   \n",
       "2       https://plainid.com  Tel Aviv       NaN         Israel     6789139   \n",
       "3   https://snapcart.global   Jakarta       NaN      Indonesia       12940   \n",
       "4       https://sliceit.com       NaN     Assam          India      781028   \n",
       "\n",
       "   ...                                           keywords investor_count  \\\n",
       "0  ...  ['Mental Health Care', 'Telemedicine', 'Health...             20   \n",
       "1  ...  ['Insurance', 'Technology', 'Healthcare', 'Fin...              8   \n",
       "2  ...  ['Cybersecurity', 'Identity Management', 'Data...             10   \n",
       "3  ...  ['Artificial Intelligence & Machine Learning',...              9   \n",
       "4  ...  ['FinTech', 'ConsumerTech', 'E-Commerce', 'Dig...             36   \n",
       "\n",
       "   mosaic_change  funding_total_millions  last_funding_millions  \\\n",
       "0         -117.0                   76.32                   9.12   \n",
       "1         -119.0                  138.10                  70.00   \n",
       "2         -120.0                   99.00                  75.00   \n",
       "3          124.0                   14.70                  10.00   \n",
       "4          -76.0                  390.50                   7.77   \n",
       "\n",
       "   funding_count  last_funding_type last_funding_date  \\\n",
       "0              8      Series B - II        2024-04-09   \n",
       "1              5           Series C        2020-12-16   \n",
       "2              5           Series C        2021-12-21   \n",
       "3              4           Series A        2017-10-25   \n",
       "4             21        Debt - VIII        2024-07-19   \n",
       "\n",
       "                                           sentiment  \\\n",
       "0  {'sentimentScore': 100, 'cntPositive': 15, 'cn...   \n",
       "1  {'sentimentScore': 90, 'cntPositive': 48, 'cnt...   \n",
       "2  {'sentimentScore': 100, 'cntPositive': 21, 'cn...   \n",
       "3  {'sentimentScore': 92, 'cntPositive': 7, 'cntN...   \n",
       "4  {'sentimentScore': 89, 'cntPositive': 36, 'cnt...   \n",
       "\n",
       "                                            articles  \n",
       "0  [{'contentId': 'ab325015a7bbae7beefc4833b73696...  \n",
       "1  [{'contentId': 'b633176d-6378-46d0-9b15-d2b611...  \n",
       "2  [{'contentId': '29c3c127-069d-4be7-aaf6-3a89bb...  \n",
       "3  [{'contentId': '5ffd28ae-d4f3-46e2-a3b1-526c96...  \n",
       "4  [{'contentId': 'ce75fa10-6d0f-45d5-bf66-2532b8...  \n",
       "\n",
       "[5 rows x 21 columns]"
      ]
     },
     "execution_count": 3,
     "metadata": {},
     "output_type": "execute_result"
    }
   ],
   "source": [
    "df.head()"
   ]
  },
  {
   "cell_type": "code",
   "execution_count": 4,
   "id": "375bd269-a87c-4ce4-9b55-6bec2e4f2142",
   "metadata": {},
   "outputs": [],
   "source": [
    "import ast\n",
    "\n",
    "#extract 'sentimentScore' from the 'sentiment' string\n",
    "def extract_sentiment_score(sentiment_str):\n",
    "    try:\n",
    "        sentiment_dict = ast.literal_eval(sentiment_str)\n",
    "        return sentiment_dict.get('sentimentScore', None)\n",
    "    except (ValueError, SyntaxError):\n",
    "        return None\n",
    "\n",
    "#create a new column 'sentimentScore'\n",
    "df['sentimentScore'] = df['sentiment'].apply(extract_sentiment_score)"
   ]
  },
  {
   "cell_type": "code",
   "execution_count": 5,
   "id": "f66ae81e-2340-4732-814b-26d4869c8f62",
   "metadata": {},
   "outputs": [],
   "source": [
    "#Defining numerical columns to work with\n",
    "numerical_cols = [\n",
    "    'year_founded',\n",
    "    'investor_count',\n",
    "    'mosaic_change',\n",
    "    'funding_total_millions',\n",
    "    'last_funding_millions',\n",
    "    'funding_count',\n",
    "    'sentimentScore'\n",
    "]"
   ]
  },
  {
   "cell_type": "code",
   "execution_count": 6,
   "id": "90c4e0ed-d73e-4cd3-8233-971d036cc1fb",
   "metadata": {},
   "outputs": [],
   "source": [
    "#Significant outliers - dropped from the dataset\n",
    "df.drop([9,3313], inplace = True)"
   ]
  },
  {
   "cell_type": "code",
   "execution_count": 7,
   "id": "fb3aed17-a240-4e61-98af-a9d362758086",
   "metadata": {},
   "outputs": [],
   "source": [
    "#Using a StandardScaler - common good practice for K-means\n",
    "scaler = StandardScaler()\n",
    "X_scaled = scaler.fit_transform(df[numerical_cols])\n"
   ]
  },
  {
   "cell_type": "code",
   "execution_count": 9,
   "id": "9f7d5c7c-0cad-407c-a0d2-9a3be8c014c0",
   "metadata": {},
   "outputs": [
    {
     "data": {
      "text/plain": [
       "array([[-0.50947838,  1.24346422, -0.92501958, ..., -0.35479021,\n",
       "         0.73804362,  0.7131997 ],\n",
       "       [ 0.1113885 , -0.47841181, -0.94445878, ...,  0.47999504,\n",
       "        -0.1943735 , -0.22430704],\n",
       "       [-0.81991182, -0.19143247, -0.95417839, ...,  0.54855494,\n",
       "        -0.1943735 ,  0.7131997 ],\n",
       "       ...,\n",
       "       [ 0.73225538, -0.76539114, -1.48875655, ...,  0.08234766,\n",
       "        -0.81598491, -3.50558062],\n",
       "       [ 0.1113885 ,  0.95648488, -0.05025531, ...,  0.34287526,\n",
       "        -0.81598491, -0.03680569],\n",
       "       [ 0.73225538,  0.09554687, -1.51791536, ..., -0.39044136,\n",
       "         0.73804362, -0.41180839]])"
      ]
     },
     "execution_count": 9,
     "metadata": {},
     "output_type": "execute_result"
    }
   ],
   "source": [
    "X_scaled"
   ]
  },
  {
   "cell_type": "code",
   "execution_count": 11,
   "id": "278bf91a-ae0e-40b7-845b-e6da7c60f846",
   "metadata": {},
   "outputs": [
    {
     "name": "stderr",
     "output_type": "stream",
     "text": [
      "/opt/conda/lib/python3.10/site-packages/sklearn/cluster/_kmeans.py:870: FutureWarning: The default value of `n_init` will change from 10 to 'auto' in 1.4. Set the value of `n_init` explicitly to suppress the warning\n",
      "  warnings.warn(\n"
     ]
    },
    {
     "data": {
      "text/html": [
       "<style>#sk-container-id-1 {color: black;background-color: white;}#sk-container-id-1 pre{padding: 0;}#sk-container-id-1 div.sk-toggleable {background-color: white;}#sk-container-id-1 label.sk-toggleable__label {cursor: pointer;display: block;width: 100%;margin-bottom: 0;padding: 0.3em;box-sizing: border-box;text-align: center;}#sk-container-id-1 label.sk-toggleable__label-arrow:before {content: \"▸\";float: left;margin-right: 0.25em;color: #696969;}#sk-container-id-1 label.sk-toggleable__label-arrow:hover:before {color: black;}#sk-container-id-1 div.sk-estimator:hover label.sk-toggleable__label-arrow:before {color: black;}#sk-container-id-1 div.sk-toggleable__content {max-height: 0;max-width: 0;overflow: hidden;text-align: left;background-color: #f0f8ff;}#sk-container-id-1 div.sk-toggleable__content pre {margin: 0.2em;color: black;border-radius: 0.25em;background-color: #f0f8ff;}#sk-container-id-1 input.sk-toggleable__control:checked~div.sk-toggleable__content {max-height: 200px;max-width: 100%;overflow: auto;}#sk-container-id-1 input.sk-toggleable__control:checked~label.sk-toggleable__label-arrow:before {content: \"▾\";}#sk-container-id-1 div.sk-estimator input.sk-toggleable__control:checked~label.sk-toggleable__label {background-color: #d4ebff;}#sk-container-id-1 div.sk-label input.sk-toggleable__control:checked~label.sk-toggleable__label {background-color: #d4ebff;}#sk-container-id-1 input.sk-hidden--visually {border: 0;clip: rect(1px 1px 1px 1px);clip: rect(1px, 1px, 1px, 1px);height: 1px;margin: -1px;overflow: hidden;padding: 0;position: absolute;width: 1px;}#sk-container-id-1 div.sk-estimator {font-family: monospace;background-color: #f0f8ff;border: 1px dotted black;border-radius: 0.25em;box-sizing: border-box;margin-bottom: 0.5em;}#sk-container-id-1 div.sk-estimator:hover {background-color: #d4ebff;}#sk-container-id-1 div.sk-parallel-item::after {content: \"\";width: 100%;border-bottom: 1px solid gray;flex-grow: 1;}#sk-container-id-1 div.sk-label:hover label.sk-toggleable__label {background-color: #d4ebff;}#sk-container-id-1 div.sk-serial::before {content: \"\";position: absolute;border-left: 1px solid gray;box-sizing: border-box;top: 0;bottom: 0;left: 50%;z-index: 0;}#sk-container-id-1 div.sk-serial {display: flex;flex-direction: column;align-items: center;background-color: white;padding-right: 0.2em;padding-left: 0.2em;position: relative;}#sk-container-id-1 div.sk-item {position: relative;z-index: 1;}#sk-container-id-1 div.sk-parallel {display: flex;align-items: stretch;justify-content: center;background-color: white;position: relative;}#sk-container-id-1 div.sk-item::before, #sk-container-id-1 div.sk-parallel-item::before {content: \"\";position: absolute;border-left: 1px solid gray;box-sizing: border-box;top: 0;bottom: 0;left: 50%;z-index: -1;}#sk-container-id-1 div.sk-parallel-item {display: flex;flex-direction: column;z-index: 1;position: relative;background-color: white;}#sk-container-id-1 div.sk-parallel-item:first-child::after {align-self: flex-end;width: 50%;}#sk-container-id-1 div.sk-parallel-item:last-child::after {align-self: flex-start;width: 50%;}#sk-container-id-1 div.sk-parallel-item:only-child::after {width: 0;}#sk-container-id-1 div.sk-dashed-wrapped {border: 1px dashed gray;margin: 0 0.4em 0.5em 0.4em;box-sizing: border-box;padding-bottom: 0.4em;background-color: white;}#sk-container-id-1 div.sk-label label {font-family: monospace;font-weight: bold;display: inline-block;line-height: 1.2em;}#sk-container-id-1 div.sk-label-container {text-align: center;}#sk-container-id-1 div.sk-container {/* jupyter's `normalize.less` sets `[hidden] { display: none; }` but bootstrap.min.css set `[hidden] { display: none !important; }` so we also need the `!important` here to be able to override the default hidden behavior on the sphinx rendered scikit-learn.org. See: https://github.com/scikit-learn/scikit-learn/issues/21755 */display: inline-block !important;position: relative;}#sk-container-id-1 div.sk-text-repr-fallback {display: none;}</style><div id=\"sk-container-id-1\" class=\"sk-top-container\"><div class=\"sk-text-repr-fallback\"><pre>KMeans(n_clusters=3, random_state=42)</pre><b>In a Jupyter environment, please rerun this cell to show the HTML representation or trust the notebook. <br />On GitHub, the HTML representation is unable to render, please try loading this page with nbviewer.org.</b></div><div class=\"sk-container\" hidden><div class=\"sk-item\"><div class=\"sk-estimator sk-toggleable\"><input class=\"sk-toggleable__control sk-hidden--visually\" id=\"sk-estimator-id-1\" type=\"checkbox\" checked><label for=\"sk-estimator-id-1\" class=\"sk-toggleable__label sk-toggleable__label-arrow\">KMeans</label><div class=\"sk-toggleable__content\"><pre>KMeans(n_clusters=3, random_state=42)</pre></div></div></div></div></div>"
      ],
      "text/plain": [
       "KMeans(n_clusters=3, random_state=42)"
      ]
     },
     "execution_count": 11,
     "metadata": {},
     "output_type": "execute_result"
    }
   ],
   "source": [
    "#Different k's were tested, 3 was chosen because it made the most graphical sense (after PCA) to divide clusters this way\n",
    "k = 3\n",
    "kmeans = KMeans(n_clusters=k, random_state=42)\n",
    "kmeans.fit(X_scaled)\n"
   ]
  },
  {
   "cell_type": "code",
   "execution_count": 12,
   "id": "01386138-b37e-4a40-803c-924144e05aaa",
   "metadata": {},
   "outputs": [],
   "source": [
    "#Creating a new column designating the cluster\n",
    "df['cluster'] = kmeans.labels_\n"
   ]
  },
  {
   "cell_type": "code",
   "execution_count": 13,
   "id": "83cebeb4-c962-41f1-be60-b869fa0abd2e",
   "metadata": {},
   "outputs": [
    {
     "name": "stdout",
     "output_type": "stream",
     "text": [
      "2    3414\n",
      "1    1940\n",
      "0     153\n",
      "Name: cluster, dtype: int64\n"
     ]
    }
   ],
   "source": [
    "#Printing the number of values in each cluster\n",
    "print(df['cluster'].value_counts())\n"
   ]
  },
  {
   "cell_type": "code",
   "execution_count": 14,
   "id": "29e2758a-6644-43c2-bcd8-3e6eb187cbd8",
   "metadata": {},
   "outputs": [
    {
     "name": "stdout",
     "output_type": "stream",
     "text": [
      "         year_founded  investor_count  mosaic_change  funding_total_millions  \\\n",
      "cluster                                                                        \n",
      "0         2015.209150       19.686275     -17.058824             1160.205882   \n",
      "1         2014.214433       15.649485     -37.505670              130.425923   \n",
      "2         2018.084359        8.507616     -13.135325               43.507496   \n",
      "\n",
      "         last_funding_millions  funding_count  sentimentScore  \n",
      "cluster                                                        \n",
      "0                   342.752026       8.607843       85.032680  \n",
      "1                    33.632320       8.446392       92.418557  \n",
      "2                    21.976216       3.888694       92.707674  \n"
     ]
    }
   ],
   "source": [
    "#Visualizing means of values within each cluster\n",
    "cluster_profiles = df.groupby('cluster')[numerical_cols].mean()\n",
    "print(cluster_profiles)\n"
   ]
  },
  {
   "cell_type": "code",
   "execution_count": 15,
   "id": "5a2c1e81-3d4f-43be-bde9-c8962de60a87",
   "metadata": {},
   "outputs": [
    {
     "data": {
      "image/png": "[encoded data removed]",
      "text/plain": [
       "<Figure size 1000x700 with 1 Axes>"
      ]
     },
     "metadata": {},
     "output_type": "display_data"
    }
   ],
   "source": [
    "from sklearn.decomposition import PCA\n",
    "\n",
    "#reduce to 2 principal components for visualization purposes\n",
    "pca = PCA(n_components=2)\n",
    "principal_components = pca.fit_transform(X_scaled)\n",
    "\n",
    "#create a DataFrame for the principal components\n",
    "pc_df = pd.DataFrame(data=principal_components, columns=['PC1', 'PC2'])\n",
    "pc_df['cluster'] = kmeans.labels_\n",
    "\n",
    "#plot the clusters in 2D\n",
    "plt.figure(figsize=(10, 7))\n",
    "for cluster in range(k):\n",
    "    cluster_data = pc_df[pc_df['cluster'] == cluster]\n",
    "    plt.scatter(cluster_data['PC1'], cluster_data['PC2'], label=f'Cluster {cluster}')\n",
    "\n",
    "plt.title('K-means Clusters with PCA')\n",
    "plt.xlabel('Principal Component 1')\n",
    "plt.ylabel('Principal Component 2')\n",
    "plt.legend()\n",
    "plt.show()\n"
   ]
  },
  {
   "cell_type": "code",
   "execution_count": null,
   "id": "7ec92d14-8023-4342-b885-6b1b4023c066",
   "metadata": {},
   "outputs": [
    {
     "name": "stderr",
     "output_type": "stream",
     "text": [
      "/opt/conda/lib/python3.10/site-packages/sklearn/cluster/_kmeans.py:870: FutureWarning: The default value of `n_init` will change from 10 to 'auto' in 1.4. Set the value of `n_init` explicitly to suppress the warning\n",
      "  warnings.warn(\n",
      "/opt/conda/lib/python3.10/site-packages/sklearn/cluster/_kmeans.py:870: FutureWarning: The default value of `n_init` will change from 10 to 'auto' in 1.4. Set the value of `n_init` explicitly to suppress the warning\n",
      "  warnings.warn(\n",
      "/opt/conda/lib/python3.10/site-packages/sklearn/cluster/_kmeans.py:870: FutureWarning: The default value of `n_init` will change from 10 to 'auto' in 1.4. Set the value of `n_init` explicitly to suppress the warning\n",
      "  warnings.warn(\n",
      "/opt/conda/lib/python3.10/site-packages/sklearn/cluster/_kmeans.py:870: FutureWarning: The default value of `n_init` will change from 10 to 'auto' in 1.4. Set the value of `n_init` explicitly to suppress the warning\n",
      "  warnings.warn(\n",
      "/opt/conda/lib/python3.10/site-packages/sklearn/cluster/_kmeans.py:870: FutureWarning: The default value of `n_init` will change from 10 to 'auto' in 1.4. Set the value of `n_init` explicitly to suppress the warning\n",
      "  warnings.warn(\n",
      "/opt/conda/lib/python3.10/site-packages/sklearn/cluster/_kmeans.py:870: FutureWarning: The default value of `n_init` will change from 10 to 'auto' in 1.4. Set the value of `n_init` explicitly to suppress the warning\n",
      "  warnings.warn(\n"
     ]
    }
   ],
   "source": [
    "#calculate distortions for a range of k values for the elbow method\n",
    "distortions = []\n",
    "silhouette_scores = []\n",
    "K = range(2, 10)\n",
    "for k in K:\n",
    "    kmeans_model = KMeans(n_clusters=k, random_state=42)\n",
    "    kmeans_model.fit(X_scaled)\n",
    "    distortions.append(kmeans_model.inertia_)\n",
    "    \n",
    "\n",
    "#plot the elbow chart\n",
    "plt.figure(figsize=(10, 5))\n",
    "plt.plot(K, distortions, 'bx-')\n",
    "plt.xlabel('k')\n",
    "plt.ylabel('Distortion')\n",
    "plt.title('Elbow Method showing the optimal k')\n",
    "plt.show()\n",
    "\n"
   ]
  },
  {
   "cell_type": "code",
   "execution_count": null,
   "id": "a6d13e1c-eca6-4c88-8fee-dcd2fc1da839",
   "metadata": {},
   "outputs": [],
   "source": []
  }
 ],
 "metadata": {
  "kernelspec": {
   "display_name": "Python 3 (ipykernel)",
   "language": "python",
   "name": "python3"
  },
  "language_info": {
   "codemirror_mode": {
    "name": "ipython",
    "version": 3
   },
   "file_extension": ".py",
   "mimetype": "text/x-python",
   "name": "python",
   "nbconvert_exporter": "python",
   "pygments_lexer": "ipython3",
   "version": "3.10.8"
  }
 },
 "nbformat": 4,
 "nbformat_minor": 5
}
