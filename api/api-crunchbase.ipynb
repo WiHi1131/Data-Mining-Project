{
 "cells": [
  {
   "cell_type": "markdown",
   "id": "52436546-9f81-4cca-a096-3ff6457abff1",
   "metadata": {},
   "source": [
    "# Crunchbase API"
   ]
  },
  {
   "cell_type": "markdown",
   "id": "6ff7b799-8bf3-4e97-9874-711ac6e5a9ee",
   "metadata": {},
   "source": [
    "We can only access the Basic API since it is free. Lets try to get information for Apple to test it."
   ]
  },
  {
   "cell_type": "code",
   "execution_count": 3,
   "id": "ce6be2d3-168a-4701-90c8-a3d2d1b7017e",
   "metadata": {},
   "outputs": [
    {
     "name": "stdout",
     "output_type": "stream",
     "text": [
      "{\n",
      "    \"properties\": {\n",
      "        \"identifier\": {\n",
      "            \"uuid\": \"7063d087-96b8-2cc1-ee88-c221288acc2a\",\n",
      "            \"value\": \"Apple\",\n",
      "            \"image_id\": \"s1cihnpc1cnekihotv0e\",\n",
      "            \"permalink\": \"apple\",\n",
      "            \"entity_def_id\": \"organization\"\n",
      "        }\n",
      "    }\n",
      "}\n",
      "None\n"
     ]
    }
   ],
   "source": [
    "import requests\n",
    "import json\n",
    "\n",
    "api_key = '575affbc6e3214e31b6bd7b12c0dafbb'\n",
    "\n",
    "base_url = 'https://api.crunchbase.com/api/v4/entities/organizations/'\n",
    "\n",
    "def get_company_data(company_url):\n",
    "    url = f'{base_url}{company_url}'\n",
    "    params = { \n",
    "        'user_key': api_key\n",
    "    }\n",
    "    \n",
    "    try:\n",
    "        response = requests.get(url, params=params)\n",
    "        response.raise_for_status()\n",
    "        return response.json()\n",
    "    except Exception as e:\n",
    "        print(f'Error: {e}')\n",
    "        \n",
    "    return None\n",
    "\n",
    "company_url = 'apple'\n",
    "company_data = get_company_data(company_url)\n",
    "\n",
    "if company_data:\n",
    "    print(json.dumps(company_data, indent=4))\n",
    "    properties = company_data.get('properties', {})\n",
    "    print(properties.get('location_identifiers'))\n",
    "else:\n",
    "    print(f\"Didn't get data for {company_url}\")"
   ]
  },
  {
   "cell_type": "markdown",
   "id": "dd6dbc42-2d30-480d-bbbc-08dd2af62368",
   "metadata": {},
   "source": [
    "The Basic Plan Crunchbase API does not seem to be working without paying for Pro Plan, which is $49 a month, so we will use a csv file from Crunchbase's Daily CSV Exports: https://data.crunchbase.com/docs/daily-csv-export.\n",
    "\n",
    "We integrate this with our existing datasets in `../cleaning/tables.ipynb`."
   ]
  }
 ],
 "metadata": {
  "kernelspec": {
   "display_name": "Python 3 (ipykernel)",
   "language": "python",
   "name": "python3"
  },
  "language_info": {
   "codemirror_mode": {
    "name": "ipython",
    "version": 3
   },
   "file_extension": ".py",
   "mimetype": "text/x-python",
   "name": "python",
   "nbconvert_exporter": "python",
   "pygments_lexer": "ipython3",
   "version": "3.10.8"
  }
 },
 "nbformat": 4,
 "nbformat_minor": 5
}
