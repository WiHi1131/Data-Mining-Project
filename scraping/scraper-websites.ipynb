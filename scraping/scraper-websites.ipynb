{
 "cells": [
  {
   "cell_type": "code",
   "execution_count": 1,
   "id": "e8ba2360-11c0-4f14-8353-3072ce252c4e",
   "metadata": {},
   "outputs": [],
   "source": [
    "# Only run if using coding.csel.io\n",
    "import os\n",
    "if os.getcwd() != '/home/jovyan/scraping':\n",
    "    os.chdir('scraping/')"
   ]
  },
  {
   "cell_type": "markdown",
   "id": "869f8b40-d1c6-46ff-813d-dbbe5cd01f77",
   "metadata": {},
   "source": [
    "# Company Websites (WIP)"
   ]
  },
  {
   "cell_type": "code",
   "execution_count": null,
   "id": "bf4e5e58-1988-486d-b926-4263def00357",
   "metadata": {},
   "outputs": [],
   "source": [
    "import requests\n",
    "from bs4 import BeautifulSoup\n",
    "\n",
    "# Function to get webpage content\n",
    "def get_webpage(url):\n",
    "    headers = {\n",
    "        'User-Agent': 'Mozilla/5.0 (Macintosh; Intel Mac OS X 10_15_7) AppleWebKit/537.36 (KHTML, like Gecko) Chrome/129.0.0.0 Safari/537.36'\n",
    "    }\n",
    "    try:\n",
    "        response = requests.get(url, headers=headers)\n",
    "        response.raise_for_status() \n",
    "        return response.text\n",
    "    except requests.exceptions.RequestException as e:\n",
    "        print(f\"Error fetching {url}: {e}\")\n",
    "        return None\n",
    "\n",
    "# Function to parse webpage content and extract headers and paragraphs\n",
    "def parse_webpage(content):\n",
    "    soup = BeautifulSoup(content, 'html.parser')\n",
    "    \n",
    "    # Title\n",
    "    title = soup.find('title').get_text() if soup.find('title') else 'No Title'\n",
    "    \n",
    "    # Headers (h1, h2, h3)\n",
    "    headers = [header.get_text(strip=True) for header in soup.find_all(['h1', 'h2', 'h3'])]\n",
    "    \n",
    "    # Paragraphs (p)\n",
    "    paragraphs = [para.get_text(strip=True) for para in soup.find_all('p')]\n",
    "    \n",
    "    return {\n",
    "        'title': title,\n",
    "        'headers': headers,\n",
    "        'paragraphs': paragraphs\n",
    "    }\n",
    "\n",
    "# Main function to scrape multiple websites\n",
    "def main():\n",
    "    urls = [\n",
    "        'https://www.eikontx.com/',\n",
    "        'https://www.montecarlodata.com/',\n",
    "        'https://temporal.io/',\n",
    "        'https://www.anthropic.com/',\n",
    "    ]\n",
    "    \n",
    "    for url in urls:\n",
    "        webpage_content = get_webpage(url)\n",
    "        if webpage_content:\n",
    "            data = parse_webpage(webpage_content)\n",
    "            print(f\"Title: {data['title']}\")\n",
    "            print(f\"Headers: {data['headers']}\")\n",
    "            print(f\"Paragraphs: {data['paragraphs']}\")\n",
    "            print(\"-\" * 40)\n",
    "            \n",
    "if __name__ == \"__main__\":\n",
    "    main()\n"
   ]
  }
 ],
 "metadata": {
  "kernelspec": {
   "display_name": "Python 3 (ipykernel)",
   "language": "python",
   "name": "python3"
  },
  "language_info": {
   "codemirror_mode": {
    "name": "ipython",
    "version": 3
   },
   "file_extension": ".py",
   "mimetype": "text/x-python",
   "name": "python",
   "nbconvert_exporter": "python",
   "pygments_lexer": "ipython3",
   "version": "3.10.8"
  }
 },
 "nbformat": 4,
 "nbformat_minor": 5
}
